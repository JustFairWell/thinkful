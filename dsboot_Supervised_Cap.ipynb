{
 "cells": [
  {
   "cell_type": "code",
   "execution_count": 64,
   "metadata": {},
   "outputs": [],
   "source": [
    "import pandas as pd\n",
    "import numpy as np\n",
    "import matplotlib.pyplot as plt\n",
    "import seaborn as sns\n",
    "import sklearn \n",
    "import scipy"
   ]
  },
  {
   "cell_type": "code",
   "execution_count": 65,
   "metadata": {},
   "outputs": [
    {
     "name": "stderr",
     "output_type": "stream",
     "text": [
      "/Users/justinsmith/anaconda3/lib/python3.6/site-packages/IPython/core/interactiveshell.py:2785: DtypeWarning: Columns (18,19,20,21,22,23,24,33,34,35,37,43,45) have mixed types. Specify dtype option on import or set low_memory=False.\n",
      "  interactivity=interactivity, compiler=compiler, result=result)\n"
     ]
    }
   ],
   "source": [
    "dc_re = pd.read_csv('/Users/justinsmith/Documents/GitHub/DC_Properties.csv')"
   ]
  },
  {
   "cell_type": "code",
   "execution_count": 66,
   "metadata": {},
   "outputs": [
    {
     "name": "stdout",
     "output_type": "stream",
     "text": [
      "<class 'pandas.core.frame.DataFrame'>\n",
      "RangeIndex: 158957 entries, 0 to 158956\n",
      "Data columns (total 49 columns):\n",
      "Unnamed: 0            158957 non-null int64\n",
      "BATHRM                158957 non-null int64\n",
      "HF_BATHRM             158957 non-null int64\n",
      "HEAT                  158957 non-null object\n",
      "AC                    158957 non-null object\n",
      "NUM_UNITS             106696 non-null float64\n",
      "ROOMS                 158957 non-null int64\n",
      "BEDRM                 158957 non-null int64\n",
      "AYB                   158686 non-null float64\n",
      "YR_RMDL               80928 non-null float64\n",
      "EYB                   158957 non-null int64\n",
      "STORIES               106652 non-null float64\n",
      "SALEDATE              132187 non-null object\n",
      "PRICE                 98216 non-null float64\n",
      "QUALIFIED             158957 non-null object\n",
      "SALE_NUM              158957 non-null int64\n",
      "GBA                   106696 non-null float64\n",
      "BLDG_NUM              158957 non-null int64\n",
      "STYLE                 106696 non-null object\n",
      "STRUCT                106696 non-null object\n",
      "GRADE                 106696 non-null object\n",
      "CNDTN                 106696 non-null object\n",
      "EXTWALL               106696 non-null object\n",
      "ROOF                  106696 non-null object\n",
      "INTWALL               106696 non-null object\n",
      "KITCHENS              106695 non-null float64\n",
      "FIREPLACES            158957 non-null int64\n",
      "USECODE               158957 non-null int64\n",
      "LANDAREA              158957 non-null int64\n",
      "GIS_LAST_MOD_DTTM     158957 non-null object\n",
      "SOURCE                158957 non-null object\n",
      "CMPLX_NUM             52261 non-null float64\n",
      "LIVING_GBA            52261 non-null float64\n",
      "FULLADDRESS           106040 non-null object\n",
      "CITY                  106051 non-null object\n",
      "STATE                 106051 non-null object\n",
      "ZIPCODE               158956 non-null float64\n",
      "NATIONALGRID          106051 non-null object\n",
      "LATITUDE              158956 non-null float64\n",
      "LONGITUDE             158956 non-null float64\n",
      "ASSESSMENT_NBHD       158956 non-null object\n",
      "ASSESSMENT_SUBNBHD    126406 non-null object\n",
      "CENSUS_TRACT          158956 non-null float64\n",
      "CENSUS_BLOCK          106051 non-null object\n",
      "WARD                  158956 non-null object\n",
      "SQUARE                158957 non-null object\n",
      "X                     158720 non-null float64\n",
      "Y                     158720 non-null float64\n",
      "QUADRANT              158720 non-null object\n",
      "dtypes: float64(15), int64(11), object(23)\n",
      "memory usage: 59.4+ MB\n"
     ]
    }
   ],
   "source": [
    "dc_re.info()"
   ]
  },
  {
   "cell_type": "code",
   "execution_count": 67,
   "metadata": {},
   "outputs": [],
   "source": [
    "tract_df = pd.read_csv('/Users/justinsmith/Documents/GitHub/raw_census_tracts_in_2010.csv')"
   ]
  },
  {
   "cell_type": "code",
   "execution_count": 68,
   "metadata": {},
   "outputs": [],
   "source": [
    "dc_re.dropna(subset=['PRICE'], inplace=True)"
   ]
  },
  {
   "cell_type": "code",
   "execution_count": 69,
   "metadata": {},
   "outputs": [],
   "source": [
    "dc_re = dc_re.drop(columns=['STATE', 'CITY'])"
   ]
  },
  {
   "cell_type": "code",
   "execution_count": 71,
   "metadata": {},
   "outputs": [],
   "source": [
    "dc_re_resid = dc_re[dc_re['SOURCE'] == 'Residential']"
   ]
  },
  {
   "cell_type": "code",
   "execution_count": 72,
   "metadata": {},
   "outputs": [],
   "source": [
    "dc_re_condo = dc_re[dc_re['SOURCE'] != 'Residential']"
   ]
  },
  {
   "cell_type": "code",
   "execution_count": 75,
   "metadata": {},
   "outputs": [],
   "source": [
    "dc_1900 = dc_re[(dc_re['EYB'] == 1900) & (dc_re['AYB'] >= 1900)]"
   ]
  },
  {
   "cell_type": "code",
   "execution_count": 76,
   "metadata": {},
   "outputs": [],
   "source": [
    "dc_re['diff_yr'] = abs(dc_re['EYB']-dc_re['YR_RMDL'])"
   ]
  },
  {
   "cell_type": "code",
   "execution_count": 77,
   "metadata": {},
   "outputs": [
    {
     "data": {
      "text/plain": [
       "(1594, 48)"
      ]
     },
     "execution_count": 77,
     "metadata": {},
     "output_type": "execute_result"
    }
   ],
   "source": [
    "dc_1900.shape"
   ]
  },
  {
   "cell_type": "code",
   "execution_count": 78,
   "metadata": {},
   "outputs": [
    {
     "data": {
      "image/png": "[encoded data removed]",
      "text/plain": [
       "<Figure size 432x288 with 1 Axes>"
      ]
     },
     "metadata": {},
     "output_type": "display_data"
    }
   ],
   "source": [
    "plt.plot(dc_re_drop['AYB'], dc_re_drop['diff_yr'], 'r.')\n",
    "plt.ylim(ymax=150, ymin=-5)\n",
    "plt.show()"
   ]
  },
  {
   "cell_type": "code",
   "execution_count": 94,
   "metadata": {},
   "outputs": [],
   "source": [
    "for i in range(len(dc_1900)):\n",
    "    if dc_1900.iloc[i,8] > dc_1900.iloc[i,10]:\n",
    "        dc_1900.iloc[i,10] = dc_1900.iloc[i,8]"
   ]
  },
  {
   "cell_type": "code",
   "execution_count": 98,
   "metadata": {},
   "outputs": [
    {
     "data": {
      "text/plain": [
       "(1594, 48)"
      ]
     },
     "execution_count": 98,
     "metadata": {},
     "output_type": "execute_result"
    }
   ],
   "source": [
    "dc_1900.shape"
   ]
  },
  {
   "cell_type": "code",
   "execution_count": 123,
   "metadata": {},
   "outputs": [
    {
     "name": "stderr",
     "output_type": "stream",
     "text": [
      "/Users/justinsmith/anaconda3/lib/python3.6/site-packages/ipykernel_launcher.py:2: SettingWithCopyWarning: \n",
      "A value is trying to be set on a copy of a slice from a DataFrame.\n",
      "Try using .loc[row_indexer,col_indexer] = value instead\n",
      "\n",
      "See the caveats in the documentation: http://pandas.pydata.org/pandas-docs/stable/indexing.html#indexing-view-versus-copy\n",
      "  \n"
     ]
    }
   ],
   "source": [
    "dc_re_resid['diff_yr'] = abs(dc_re_resid['EYB']- dc_re_resid['YR_RMDL'])\n",
    "dc_re_condo['diff_yr'] = abs(dc_re_condo['EYB']- dc_re_condo['YR_RMDL'])\n",
    "# dc_re_resid = dc_re_resid.drop(index=56600)"
   ]
  },
  {
   "cell_type": "code",
   "execution_count": 124,
   "metadata": {},
   "outputs": [
    {
     "data": {
      "text/plain": [
       "[<matplotlib.lines.Line2D at 0x1a1acd07f0>]"
      ]
     },
     "execution_count": 124,
     "metadata": {},
     "output_type": "execute_result"
    },
    {
     "data": {
      "image/png": "[encoded data removed]",
      "text/plain": [
       "<Figure size 432x288 with 1 Axes>"
      ]
     },
     "metadata": {},
     "output_type": "display_data"
    }
   ],
   "source": [
    "plt.plot(dc_re_resid['AYB'], dc_re_resid['diff_yr'], 'r.')"
   ]
  },
  {
   "cell_type": "code",
   "execution_count": 144,
   "metadata": {},
   "outputs": [
    {
     "data": {
      "text/plain": [
       "[<matplotlib.lines.Line2D at 0x1a1a7da9e8>]"
      ]
     },
     "execution_count": 144,
     "metadata": {},
     "output_type": "execute_result"
    },
    {
     "data": {
      "image/png": "[encoded data removed]",
      "text/plain": [
       "<Figure size 432x288 with 1 Axes>"
      ]
     },
     "metadata": {},
     "output_type": "display_data"
    }
   ],
   "source": [
    "plt.plot(dc_re_condo['AYB'], dc_re_condo['diff_yr'], 'r.')"
   ]
  },
  {
   "cell_type": "code",
   "execution_count": 160,
   "metadata": {},
   "outputs": [
    {
     "data": {
      "text/html": [
       "<div>\n",
       "<style scoped>\n",
       "    .dataframe tbody tr th:only-of-type {\n",
       "        vertical-align: middle;\n",
       "    }\n",
       "\n",
       "    .dataframe tbody tr th {\n",
       "        vertical-align: top;\n",
       "    }\n",
       "\n",
       "    .dataframe thead th {\n",
       "        text-align: right;\n",
       "    }\n",
       "</style>\n",
       "<table border=\"1\" class=\"dataframe\">\n",
       "  <thead>\n",
       "    <tr style=\"text-align: right;\">\n",
       "      <th></th>\n",
       "      <th>AYB</th>\n",
       "      <th>YR_RMDL</th>\n",
       "      <th>EYB</th>\n",
       "      <th>diff_yr</th>\n",
       "    </tr>\n",
       "  </thead>\n",
       "  <tbody>\n",
       "    <tr>\n",
       "      <th>113755</th>\n",
       "      <td>1891.0</td>\n",
       "      <td>2013.0</td>\n",
       "      <td>1891.0</td>\n",
       "      <td>122.0</td>\n",
       "    </tr>\n",
       "    <tr>\n",
       "      <th>120315</th>\n",
       "      <td>1891.0</td>\n",
       "      <td>1993.0</td>\n",
       "      <td>1891.0</td>\n",
       "      <td>102.0</td>\n",
       "    </tr>\n",
       "    <tr>\n",
       "      <th>125974</th>\n",
       "      <td>1900.0</td>\n",
       "      <td>2015.0</td>\n",
       "      <td>1900.0</td>\n",
       "      <td>115.0</td>\n",
       "    </tr>\n",
       "    <tr>\n",
       "      <th>131883</th>\n",
       "      <td>1900.0</td>\n",
       "      <td>2014.0</td>\n",
       "      <td>1900.0</td>\n",
       "      <td>114.0</td>\n",
       "    </tr>\n",
       "  </tbody>\n",
       "</table>\n",
       "</div>"
      ],
      "text/plain": [
       "           AYB  YR_RMDL     EYB  diff_yr\n",
       "113755  1891.0   2013.0  1891.0    122.0\n",
       "120315  1891.0   1993.0  1891.0    102.0\n",
       "125974  1900.0   2015.0  1900.0    115.0\n",
       "131883  1900.0   2014.0  1900.0    114.0"
      ]
     },
     "execution_count": 160,
     "metadata": {},
     "output_type": "execute_result"
    }
   ],
   "source": [
    "dc_re_condo[(dc_re_condo['AYB'] >1890) & (dc_re_condo['AYB'] < 1915) & (dc_re_condo['diff_yr'] > 100)].iloc[:,[8,9,10,47]]"
   ]
  },
  {
   "cell_type": "code",
   "execution_count": 126,
   "metadata": {},
   "outputs": [],
   "source": [
    "for i in range(len(dc_re_condo)):\n",
    "    if dc_re_condo.iloc[i,8] > dc_re_condo.iloc[i,10]:\n",
    "        dc_re_condo.iloc[i,10] = dc_re_condo.iloc[i,8]"
   ]
  },
  {
   "cell_type": "code",
   "execution_count": 166,
   "metadata": {},
   "outputs": [],
   "source": [
    "for i in range(len(dc_re_condo)):\n",
    "    if dc_re_condo.iloc[i,10] > dc_re_condo.iloc[i,9]:\n",
    "        dc_re_condo.iloc[i,9] = dc_re_condo.iloc[i,10]"
   ]
  },
  {
   "cell_type": "code",
   "execution_count": 170,
   "metadata": {},
   "outputs": [
    {
     "data": {
      "text/html": [
       "<div>\n",
       "<style scoped>\n",
       "    .dataframe tbody tr th:only-of-type {\n",
       "        vertical-align: middle;\n",
       "    }\n",
       "\n",
       "    .dataframe tbody tr th {\n",
       "        vertical-align: top;\n",
       "    }\n",
       "\n",
       "    .dataframe thead th {\n",
       "        text-align: right;\n",
       "    }\n",
       "</style>\n",
       "<table border=\"1\" class=\"dataframe\">\n",
       "  <thead>\n",
       "    <tr style=\"text-align: right;\">\n",
       "      <th></th>\n",
       "      <th>AYB</th>\n",
       "      <th>YR_RMDL</th>\n",
       "      <th>EYB</th>\n",
       "      <th>diff_yr</th>\n",
       "    </tr>\n",
       "  </thead>\n",
       "  <tbody>\n",
       "    <tr>\n",
       "      <th>133710</th>\n",
       "      <td>1999.0</td>\n",
       "      <td>2011.0</td>\n",
       "      <td>1999.0</td>\n",
       "      <td>12.0</td>\n",
       "    </tr>\n",
       "    <tr>\n",
       "      <th>137305</th>\n",
       "      <td>1996.0</td>\n",
       "      <td>2015.0</td>\n",
       "      <td>1996.0</td>\n",
       "      <td>19.0</td>\n",
       "    </tr>\n",
       "    <tr>\n",
       "      <th>137306</th>\n",
       "      <td>1996.0</td>\n",
       "      <td>2015.0</td>\n",
       "      <td>1996.0</td>\n",
       "      <td>19.0</td>\n",
       "    </tr>\n",
       "  </tbody>\n",
       "</table>\n",
       "</div>"
      ],
      "text/plain": [
       "           AYB  YR_RMDL     EYB  diff_yr\n",
       "133710  1999.0   2011.0  1999.0     12.0\n",
       "137305  1996.0   2015.0  1996.0     19.0\n",
       "137306  1996.0   2015.0  1996.0     19.0"
      ]
     },
     "execution_count": 170,
     "metadata": {},
     "output_type": "execute_result"
    }
   ],
   "source": [
    "dc_re_condo[(dc_re_condo['AYB'] >1995) & (dc_re_condo['AYB'] < 2005) \n",
    "            & (dc_re_condo['diff_yr'] > 10)].iloc[:,[8,9,10,47]]"
   ]
  },
  {
   "cell_type": "code",
   "execution_count": 136,
   "metadata": {},
   "outputs": [],
   "source": [
    "# dc_re_condo.drop(129108, inplace=True)"
   ]
  },
  {
   "cell_type": "code",
   "execution_count": 174,
   "metadata": {},
   "outputs": [],
   "source": [
    "for i in range(len(dc_re_resid)):\n",
    "    if dc_re_resid.iloc[i,10] > dc_re_resid.iloc[i,9]:\n",
    "        dc_re_resid.iloc[i,9] = dc_re_resid.iloc[i,10]"
   ]
  },
  {
   "cell_type": "code",
   "execution_count": 190,
   "metadata": {},
   "outputs": [],
   "source": [
    "dc_re_resid['YR_RMDL'] = dc_re_resid['YR_RMDL'].fillna(0)"
   ]
  },
  {
   "cell_type": "code",
   "execution_count": 191,
   "metadata": {},
   "outputs": [],
   "source": [
    "for i in range(len(dc_re_resid)):\n",
    "    if dc_re_resid.iloc[i,9]  == 0:\n",
    "        dc_re_resid.iloc[i,9] = dc_re_resid.iloc[i,10]"
   ]
  },
  {
   "cell_type": "code",
   "execution_count": 201,
   "metadata": {},
   "outputs": [
    {
     "name": "stdout",
     "output_type": "stream",
     "text": [
      "<class 'pandas.core.frame.DataFrame'>\n",
      "Int64Index: 57899 entries, 0 to 106695\n",
      "Data columns (total 48 columns):\n",
      "Unnamed: 0            57899 non-null int64\n",
      "BATHRM                57899 non-null int64\n",
      "HF_BATHRM             57899 non-null int64\n",
      "HEAT                  57899 non-null object\n",
      "AC                    57899 non-null object\n",
      "NUM_UNITS             57899 non-null float64\n",
      "ROOMS                 57899 non-null int64\n",
      "BEDRM                 57899 non-null int64\n",
      "AYB                   57804 non-null float64\n",
      "YR_RMDL               57899 non-null float64\n",
      "EYB                   57899 non-null int64\n",
      "STORIES               57866 non-null float64\n",
      "SALEDATE              57898 non-null object\n",
      "PRICE                 57899 non-null float64\n",
      "QUALIFIED             57899 non-null object\n",
      "SALE_NUM              57899 non-null int64\n",
      "GBA                   57899 non-null float64\n",
      "BLDG_NUM              57899 non-null int64\n",
      "STYLE                 57899 non-null object\n",
      "STRUCT                57899 non-null object\n",
      "GRADE                 57899 non-null object\n",
      "CNDTN                 57899 non-null object\n",
      "EXTWALL               57899 non-null object\n",
      "ROOF                  57899 non-null object\n",
      "INTWALL               57899 non-null object\n",
      "KITCHENS              57898 non-null float64\n",
      "FIREPLACES            57899 non-null int64\n",
      "USECODE               57899 non-null int64\n",
      "LANDAREA              57899 non-null int64\n",
      "GIS_LAST_MOD_DTTM     57899 non-null object\n",
      "SOURCE                57899 non-null object\n",
      "CMPLX_NUM             0 non-null float64\n",
      "LIVING_GBA            0 non-null float64\n",
      "FULLADDRESS           57564 non-null object\n",
      "ZIPCODE               57899 non-null float64\n",
      "NATIONALGRID          57568 non-null object\n",
      "LATITUDE              57899 non-null float64\n",
      "LONGITUDE             57899 non-null float64\n",
      "ASSESSMENT_NBHD       57899 non-null object\n",
      "ASSESSMENT_SUBNBHD    49895 non-null object\n",
      "CENSUS_TRACT          57899 non-null float64\n",
      "CENSUS_BLOCK          57568 non-null object\n",
      "WARD                  57899 non-null object\n",
      "SQUARE                57899 non-null object\n",
      "X                     57798 non-null float64\n",
      "Y                     57798 non-null float64\n",
      "QUADRANT              57798 non-null object\n",
      "diff_yr               33216 non-null float64\n",
      "dtypes: float64(16), int64(11), object(21)\n",
      "memory usage: 24.1+ MB\n"
     ]
    }
   ],
   "source": [
    "dc_re_resid.info()"
   ]
  },
  {
   "cell_type": "code",
   "execution_count": 204,
   "metadata": {},
   "outputs": [
    {
     "name": "stderr",
     "output_type": "stream",
     "text": [
      "/Users/justinsmith/anaconda3/lib/python3.6/site-packages/ipykernel_launcher.py:1: SettingWithCopyWarning: \n",
      "A value is trying to be set on a copy of a slice from a DataFrame.\n",
      "Try using .loc[row_indexer,col_indexer] = value instead\n",
      "\n",
      "See the caveats in the documentation: http://pandas.pydata.org/pandas-docs/stable/indexing.html#indexing-view-versus-copy\n",
      "  \"\"\"Entry point for launching an IPython kernel.\n"
     ]
    }
   ],
   "source": [
    "dc_re_condo['YR_RMDL'] = dc_re_condo['YR_RMDL'].fillna(0)"
   ]
  },
  {
   "cell_type": "code",
   "execution_count": 205,
   "metadata": {},
   "outputs": [
    {
     "name": "stdout",
     "output_type": "stream",
     "text": [
      "<class 'pandas.core.frame.DataFrame'>\n",
      "Int64Index: 40315 entries, 106696 to 158955\n",
      "Data columns (total 48 columns):\n",
      "Unnamed: 0            40315 non-null int64\n",
      "BATHRM                40315 non-null int64\n",
      "HF_BATHRM             40315 non-null int64\n",
      "HEAT                  40315 non-null object\n",
      "AC                    40315 non-null object\n",
      "NUM_UNITS             0 non-null float64\n",
      "ROOMS                 40315 non-null int64\n",
      "BEDRM                 40315 non-null int64\n",
      "AYB                   40298 non-null float64\n",
      "YR_RMDL               40315 non-null float64\n",
      "EYB                   40315 non-null float64\n",
      "STORIES               0 non-null float64\n",
      "SALEDATE              40315 non-null object\n",
      "PRICE                 40315 non-null float64\n",
      "QUALIFIED             40315 non-null object\n",
      "SALE_NUM              40315 non-null int64\n",
      "GBA                   0 non-null float64\n",
      "BLDG_NUM              40315 non-null int64\n",
      "STYLE                 0 non-null object\n",
      "STRUCT                0 non-null object\n",
      "GRADE                 0 non-null object\n",
      "CNDTN                 0 non-null object\n",
      "EXTWALL               0 non-null object\n",
      "ROOF                  0 non-null object\n",
      "INTWALL               0 non-null object\n",
      "KITCHENS              0 non-null float64\n",
      "FIREPLACES            40315 non-null int64\n",
      "USECODE               40315 non-null int64\n",
      "LANDAREA              40315 non-null int64\n",
      "GIS_LAST_MOD_DTTM     40315 non-null object\n",
      "SOURCE                40315 non-null object\n",
      "CMPLX_NUM             40315 non-null float64\n",
      "LIVING_GBA            40315 non-null float64\n",
      "FULLADDRESS           0 non-null object\n",
      "ZIPCODE               40315 non-null float64\n",
      "NATIONALGRID          0 non-null object\n",
      "LATITUDE              40315 non-null float64\n",
      "LONGITUDE             40315 non-null float64\n",
      "ASSESSMENT_NBHD       40315 non-null object\n",
      "ASSESSMENT_SUBNBHD    28064 non-null object\n",
      "CENSUS_TRACT          40315 non-null float64\n",
      "CENSUS_BLOCK          0 non-null object\n",
      "WARD                  40315 non-null object\n",
      "SQUARE                40315 non-null object\n",
      "X                     40315 non-null float64\n",
      "Y                     40315 non-null float64\n",
      "QUADRANT              40315 non-null object\n",
      "diff_yr               24456 non-null float64\n",
      "dtypes: float64(17), int64(10), object(21)\n",
      "memory usage: 16.3+ MB\n"
     ]
    }
   ],
   "source": [
    "dc_re_condo.info()"
   ]
  },
  {
   "cell_type": "code",
   "execution_count": 206,
   "metadata": {},
   "outputs": [
    {
     "name": "stderr",
     "output_type": "stream",
     "text": [
      "/Users/justinsmith/anaconda3/lib/python3.6/site-packages/pandas/core/indexing.py:543: SettingWithCopyWarning: \n",
      "A value is trying to be set on a copy of a slice from a DataFrame.\n",
      "Try using .loc[row_indexer,col_indexer] = value instead\n",
      "\n",
      "See the caveats in the documentation: http://pandas.pydata.org/pandas-docs/stable/indexing.html#indexing-view-versus-copy\n",
      "  self.obj[item] = s\n"
     ]
    }
   ],
   "source": [
    "for i in range(len(dc_re_condo)):\n",
    "    if dc_re_condo.iloc[i,9] == 0:\n",
    "        dc_re_condo.iloc[i,9] = dc_re_condo.iloc[i,10]"
   ]
  },
  {
   "cell_type": "code",
   "execution_count": 208,
   "metadata": {},
   "outputs": [
    {
     "data": {
      "text/html": [
       "<div>\n",
       "<style scoped>\n",
       "    .dataframe tbody tr th:only-of-type {\n",
       "        vertical-align: middle;\n",
       "    }\n",
       "\n",
       "    .dataframe tbody tr th {\n",
       "        vertical-align: top;\n",
       "    }\n",
       "\n",
       "    .dataframe thead th {\n",
       "        text-align: right;\n",
       "    }\n",
       "</style>\n",
       "<table border=\"1\" class=\"dataframe\">\n",
       "  <thead>\n",
       "    <tr style=\"text-align: right;\">\n",
       "      <th></th>\n",
       "      <th>Unnamed: 0</th>\n",
       "      <th>BATHRM</th>\n",
       "      <th>HF_BATHRM</th>\n",
       "      <th>HEAT</th>\n",
       "      <th>AC</th>\n",
       "      <th>NUM_UNITS</th>\n",
       "      <th>ROOMS</th>\n",
       "      <th>BEDRM</th>\n",
       "      <th>AYB</th>\n",
       "      <th>YR_RMDL</th>\n",
       "      <th>...</th>\n",
       "      <th>ASSESSMENT_NBHD</th>\n",
       "      <th>ASSESSMENT_SUBNBHD</th>\n",
       "      <th>CENSUS_TRACT</th>\n",
       "      <th>CENSUS_BLOCK</th>\n",
       "      <th>WARD</th>\n",
       "      <th>SQUARE</th>\n",
       "      <th>X</th>\n",
       "      <th>Y</th>\n",
       "      <th>QUADRANT</th>\n",
       "      <th>diff_yr</th>\n",
       "    </tr>\n",
       "  </thead>\n",
       "  <tbody>\n",
       "  </tbody>\n",
       "</table>\n",
       "<p>0 rows × 48 columns</p>\n",
       "</div>"
      ],
      "text/plain": [
       "Empty DataFrame\n",
       "Columns: [Unnamed: 0, BATHRM, HF_BATHRM, HEAT, AC, NUM_UNITS, ROOMS, BEDRM, AYB, YR_RMDL, EYB, STORIES, SALEDATE, PRICE, QUALIFIED, SALE_NUM, GBA, BLDG_NUM, STYLE, STRUCT, GRADE, CNDTN, EXTWALL, ROOF, INTWALL, KITCHENS, FIREPLACES, USECODE, LANDAREA, GIS_LAST_MOD_DTTM, SOURCE, CMPLX_NUM, LIVING_GBA, FULLADDRESS, ZIPCODE, NATIONALGRID, LATITUDE, LONGITUDE, ASSESSMENT_NBHD, ASSESSMENT_SUBNBHD, CENSUS_TRACT, CENSUS_BLOCK, WARD, SQUARE, X, Y, QUADRANT, diff_yr]\n",
       "Index: []\n",
       "\n",
       "[0 rows x 48 columns]"
      ]
     },
     "execution_count": 208,
     "metadata": {},
     "output_type": "execute_result"
    }
   ],
   "source": [
    "dc_re_condo[dc_re_condo['YR_RMDL'] == 0]"
   ]
  },
  {
   "cell_type": "code",
   "execution_count": 221,
   "metadata": {},
   "outputs": [
    {
     "name": "stderr",
     "output_type": "stream",
     "text": [
      "/Users/justinsmith/anaconda3/lib/python3.6/site-packages/ipykernel_launcher.py:1: SettingWithCopyWarning: \n",
      "A value is trying to be set on a copy of a slice from a DataFrame.\n",
      "Try using .loc[row_indexer,col_indexer] = value instead\n",
      "\n",
      "See the caveats in the documentation: http://pandas.pydata.org/pandas-docs/stable/indexing.html#indexing-view-versus-copy\n",
      "  \"\"\"Entry point for launching an IPython kernel.\n"
     ]
    }
   ],
   "source": [
    "dc_re_condo['AYB'] = dc_re_condo['AYB'].fillna(0)"
   ]
  },
  {
   "cell_type": "code",
   "execution_count": 222,
   "metadata": {},
   "outputs": [
    {
     "name": "stderr",
     "output_type": "stream",
     "text": [
      "/Users/justinsmith/anaconda3/lib/python3.6/site-packages/pandas/core/indexing.py:543: SettingWithCopyWarning: \n",
      "A value is trying to be set on a copy of a slice from a DataFrame.\n",
      "Try using .loc[row_indexer,col_indexer] = value instead\n",
      "\n",
      "See the caveats in the documentation: http://pandas.pydata.org/pandas-docs/stable/indexing.html#indexing-view-versus-copy\n",
      "  self.obj[item] = s\n"
     ]
    }
   ],
   "source": [
    "for i in range(len(dc_re_condo)):\n",
    "    if dc_re_condo.iloc[i,8] == 0:\n",
    "        dc_re_condo.iloc[i,8] = dc_re_condo.iloc[i,10]"
   ]
  },
  {
   "cell_type": "code",
   "execution_count": 241,
   "metadata": {},
   "outputs": [
    {
     "name": "stdout",
     "output_type": "stream",
     "text": [
      "<class 'pandas.core.frame.DataFrame'>\n",
      "Int64Index: 40315 entries, 106696 to 158955\n",
      "Data columns (total 32 columns):\n",
      "Unnamed: 0           40315 non-null int64\n",
      "BATHRM               40315 non-null int64\n",
      "HF_BATHRM            40315 non-null int64\n",
      "HEAT                 40315 non-null object\n",
      "AC                   40315 non-null object\n",
      "ROOMS                40315 non-null int64\n",
      "BEDRM                40315 non-null int64\n",
      "AYB                  40315 non-null float64\n",
      "YR_RMDL              40315 non-null float64\n",
      "EYB                  40315 non-null float64\n",
      "SALEDATE             40315 non-null object\n",
      "PRICE                40315 non-null float64\n",
      "QUALIFIED            40315 non-null object\n",
      "SALE_NUM             40315 non-null int64\n",
      "BLDG_NUM             40315 non-null int64\n",
      "FIREPLACES           40315 non-null int64\n",
      "USECODE              40315 non-null int64\n",
      "LANDAREA             40315 non-null int64\n",
      "GIS_LAST_MOD_DTTM    40315 non-null object\n",
      "SOURCE               40315 non-null object\n",
      "CMPLX_NUM            40315 non-null float64\n",
      "LIVING_GBA           40315 non-null float64\n",
      "ZIPCODE              40315 non-null float64\n",
      "LATITUDE             40315 non-null float64\n",
      "LONGITUDE            40315 non-null float64\n",
      "ASSESSMENT_NBHD      40315 non-null object\n",
      "CENSUS_TRACT         40315 non-null float64\n",
      "WARD                 40315 non-null object\n",
      "SQUARE               40315 non-null object\n",
      "X                    40315 non-null float64\n",
      "Y                    40315 non-null float64\n",
      "QUADRANT             40315 non-null object\n",
      "dtypes: float64(12), int64(10), object(10)\n",
      "memory usage: 11.4+ MB\n"
     ]
    }
   ],
   "source": [
    "dc_re_condo.info()"
   ]
  },
  {
   "cell_type": "code",
   "execution_count": 231,
   "metadata": {},
   "outputs": [
    {
     "name": "stderr",
     "output_type": "stream",
     "text": [
      "/Users/justinsmith/anaconda3/lib/python3.6/site-packages/pandas/core/frame.py:3694: SettingWithCopyWarning: \n",
      "A value is trying to be set on a copy of a slice from a DataFrame\n",
      "\n",
      "See the caveats in the documentation: http://pandas.pydata.org/pandas-docs/stable/indexing.html#indexing-view-versus-copy\n",
      "  errors=errors)\n"
     ]
    }
   ],
   "source": [
    "dc_re_condo.drop(columns='ASSESSMENT_SUBNBHD', inplace=True)"
   ]
  },
  {
   "cell_type": "code",
   "execution_count": 232,
   "metadata": {},
   "outputs": [],
   "source": [
    "dc_re_resid.drop(columns='ASSESSMENT_SUBNBHD', inplace=True)"
   ]
  },
  {
   "cell_type": "code",
   "execution_count": 233,
   "metadata": {},
   "outputs": [],
   "source": [
    "dc_re_resid.drop(columns='FULLADDRESS', inplace=True)"
   ]
  },
  {
   "cell_type": "code",
   "execution_count": 235,
   "metadata": {},
   "outputs": [
    {
     "name": "stderr",
     "output_type": "stream",
     "text": [
      "/Users/justinsmith/anaconda3/lib/python3.6/site-packages/ipykernel_launcher.py:1: SettingWithCopyWarning: \n",
      "A value is trying to be set on a copy of a slice from a DataFrame\n",
      "\n",
      "See the caveats in the documentation: http://pandas.pydata.org/pandas-docs/stable/indexing.html#indexing-view-versus-copy\n",
      "  \"\"\"Entry point for launching an IPython kernel.\n"
     ]
    }
   ],
   "source": [
    "dc_re_condo.dropna(axis=1, how='all', inplace=True)"
   ]
  },
  {
   "cell_type": "code",
   "execution_count": 237,
   "metadata": {},
   "outputs": [
    {
     "name": "stderr",
     "output_type": "stream",
     "text": [
      "/Users/justinsmith/anaconda3/lib/python3.6/site-packages/pandas/core/frame.py:3694: SettingWithCopyWarning: \n",
      "A value is trying to be set on a copy of a slice from a DataFrame\n",
      "\n",
      "See the caveats in the documentation: http://pandas.pydata.org/pandas-docs/stable/indexing.html#indexing-view-versus-copy\n",
      "  errors=errors)\n"
     ]
    }
   ],
   "source": [
    "dc_re_condo.drop(columns='diff_yr', inplace=True)"
   ]
  },
  {
   "cell_type": "code",
   "execution_count": 245,
   "metadata": {},
   "outputs": [
    {
     "name": "stdout",
     "output_type": "stream",
     "text": [
      "<class 'pandas.core.frame.DataFrame'>\n",
      "Int64Index: 57899 entries, 0 to 106695\n",
      "Data columns (total 42 columns):\n",
      "Unnamed: 0           57899 non-null int64\n",
      "BATHRM               57899 non-null int64\n",
      "HF_BATHRM            57899 non-null int64\n",
      "HEAT                 57899 non-null object\n",
      "AC                   57899 non-null object\n",
      "NUM_UNITS            57899 non-null float64\n",
      "ROOMS                57899 non-null int64\n",
      "BEDRM                57899 non-null int64\n",
      "AYB                  57804 non-null float64\n",
      "YR_RMDL              57899 non-null float64\n",
      "EYB                  57899 non-null int64\n",
      "STORIES              57866 non-null float64\n",
      "SALEDATE             57898 non-null object\n",
      "PRICE                57899 non-null float64\n",
      "QUALIFIED            57899 non-null object\n",
      "SALE_NUM             57899 non-null int64\n",
      "GBA                  57899 non-null float64\n",
      "BLDG_NUM             57899 non-null int64\n",
      "STYLE                57899 non-null object\n",
      "STRUCT               57899 non-null object\n",
      "GRADE                57899 non-null object\n",
      "CNDTN                57899 non-null object\n",
      "EXTWALL              57899 non-null object\n",
      "ROOF                 57899 non-null object\n",
      "INTWALL              57899 non-null object\n",
      "KITCHENS             57898 non-null float64\n",
      "FIREPLACES           57899 non-null int64\n",
      "USECODE              57899 non-null int64\n",
      "LANDAREA             57899 non-null int64\n",
      "GIS_LAST_MOD_DTTM    57899 non-null object\n",
      "SOURCE               57899 non-null object\n",
      "ZIPCODE              57899 non-null float64\n",
      "NATIONALGRID         57568 non-null object\n",
      "LATITUDE             57899 non-null float64\n",
      "LONGITUDE            57899 non-null float64\n",
      "ASSESSMENT_NBHD      57899 non-null object\n",
      "CENSUS_TRACT         57899 non-null float64\n",
      "WARD                 57899 non-null object\n",
      "SQUARE               57899 non-null object\n",
      "X                    57798 non-null float64\n",
      "Y                    57798 non-null float64\n",
      "QUADRANT             57798 non-null object\n",
      "dtypes: float64(13), int64(11), object(18)\n",
      "memory usage: 21.5+ MB\n"
     ]
    }
   ],
   "source": [
    "dc_re_resid.info()"
   ]
  },
  {
   "cell_type": "code",
   "execution_count": 239,
   "metadata": {},
   "outputs": [],
   "source": [
    "dc_re_resid.dropna(axis=1, how='all', inplace=True)"
   ]
  },
  {
   "cell_type": "code",
   "execution_count": 243,
   "metadata": {},
   "outputs": [],
   "source": [
    "dc_re_resid.drop(columns='CENSUS_BLOCK',inplace=True)"
   ]
  },
  {
   "cell_type": "code",
   "execution_count": 244,
   "metadata": {},
   "outputs": [],
   "source": [
    "dc_re_resid.drop(columns='diff_yr',inplace=True)"
   ]
  },
  {
   "cell_type": "code",
   "execution_count": 248,
   "metadata": {},
   "outputs": [],
   "source": [
    "dc_re_resid.drop(columns='NATIONALGRID',inplace=True)"
   ]
  },
  {
   "cell_type": "code",
   "execution_count": 283,
   "metadata": {},
   "outputs": [
    {
     "data": {
      "text/plain": [
       "Unnamed: 0           57763\n",
       "BATHRM                  13\n",
       "HF_BATHRM                8\n",
       "HEAT                    14\n",
       "AC                       3\n",
       "NUM_UNITS                7\n",
       "ROOMS                   30\n",
       "BEDRM                   17\n",
       "AYB                    200\n",
       "YR_RMDL                 80\n",
       "EYB                     83\n",
       "STORIES                 30\n",
       "SALEDATE              6438\n",
       "PRICE                 9284\n",
       "QUALIFIED                2\n",
       "SALE_NUM                15\n",
       "GBA                   4015\n",
       "BLDG_NUM                 2\n",
       "STYLE                   18\n",
       "STRUCT                   8\n",
       "GRADE                   13\n",
       "CNDTN                    7\n",
       "EXTWALL                 24\n",
       "ROOF                    16\n",
       "INTWALL                 12\n",
       "KITCHENS                 8\n",
       "FIREPLACES              14\n",
       "USECODE                  8\n",
       "LANDAREA              8515\n",
       "GIS_LAST_MOD_DTTM        1\n",
       "SOURCE                   1\n",
       "ZIPCODE                 21\n",
       "LATITUDE             57102\n",
       "LONGITUDE            57275\n",
       "ASSESSMENT_NBHD         55\n",
       "CENSUS_TRACT           171\n",
       "WARD                     8\n",
       "SQUARE                3147\n",
       "X                     3118\n",
       "Y                     3118\n",
       "QUADRANT                 4\n",
       "dtype: int64"
      ]
     },
     "execution_count": 283,
     "metadata": {},
     "output_type": "execute_result"
    }
   ],
   "source": [
    "dc_re_resid.nunique()"
   ]
  },
  {
   "cell_type": "code",
   "execution_count": 259,
   "metadata": {},
   "outputs": [],
   "source": [
    "dc_re_resid['AYB'] = dc_re_resid['AYB'].fillna(0)"
   ]
  },
  {
   "cell_type": "code",
   "execution_count": 260,
   "metadata": {},
   "outputs": [],
   "source": [
    "for i in range(len(dc_re_resid)):\n",
    "    if dc_re_resid.iloc[i,8] == 0:\n",
    "        dc_re_resid.iloc[i,8] = dc_re_resid.iloc[i,10]"
   ]
  },
  {
   "cell_type": "code",
   "execution_count": 264,
   "metadata": {},
   "outputs": [
    {
     "name": "stdout",
     "output_type": "stream",
     "text": [
      "<class 'pandas.core.frame.DataFrame'>\n",
      "Int64Index: 57763 entries, 0 to 106695\n",
      "Data columns (total 41 columns):\n",
      "Unnamed: 0           57763 non-null int64\n",
      "BATHRM               57763 non-null int64\n",
      "HF_BATHRM            57763 non-null int64\n",
      "HEAT                 57763 non-null object\n",
      "AC                   57763 non-null object\n",
      "NUM_UNITS            57763 non-null float64\n",
      "ROOMS                57763 non-null int64\n",
      "BEDRM                57763 non-null int64\n",
      "AYB                  57763 non-null float64\n",
      "YR_RMDL              57763 non-null float64\n",
      "EYB                  57763 non-null int64\n",
      "STORIES              57763 non-null float64\n",
      "SALEDATE             57763 non-null object\n",
      "PRICE                57763 non-null float64\n",
      "QUALIFIED            57763 non-null object\n",
      "SALE_NUM             57763 non-null int64\n",
      "GBA                  57763 non-null float64\n",
      "BLDG_NUM             57763 non-null int64\n",
      "STYLE                57763 non-null object\n",
      "STRUCT               57763 non-null object\n",
      "GRADE                57763 non-null object\n",
      "CNDTN                57763 non-null object\n",
      "EXTWALL              57763 non-null object\n",
      "ROOF                 57763 non-null object\n",
      "INTWALL              57763 non-null object\n",
      "KITCHENS             57763 non-null float64\n",
      "FIREPLACES           57763 non-null int64\n",
      "USECODE              57763 non-null int64\n",
      "LANDAREA             57763 non-null int64\n",
      "GIS_LAST_MOD_DTTM    57763 non-null object\n",
      "SOURCE               57763 non-null object\n",
      "ZIPCODE              57763 non-null float64\n",
      "LATITUDE             57763 non-null float64\n",
      "LONGITUDE            57763 non-null float64\n",
      "ASSESSMENT_NBHD      57763 non-null object\n",
      "CENSUS_TRACT         57763 non-null float64\n",
      "WARD                 57763 non-null object\n",
      "SQUARE               57763 non-null object\n",
      "X                    57763 non-null float64\n",
      "Y                    57763 non-null float64\n",
      "QUADRANT             57763 non-null object\n",
      "dtypes: float64(13), int64(11), object(17)\n",
      "memory usage: 18.5+ MB\n"
     ]
    }
   ],
   "source": [
    "dc_re_resid.info()"
   ]
  },
  {
   "cell_type": "code",
   "execution_count": 263,
   "metadata": {},
   "outputs": [],
   "source": [
    "dc_re_resid.dropna(inplace=True)"
   ]
  },
  {
   "cell_type": "code",
   "execution_count": null,
   "metadata": {},
   "outputs": [],
   "source": [
    "dc_re_resid.drop(columns=['X','Y','GIS_LAST_MOD_DTTM','SOURCE'] )"
   ]
  },
  {
   "cell_type": "code",
   "execution_count": 282,
   "metadata": {},
   "outputs": [
    {
     "data": {
      "text/html": [
       "<div>\n",
       "<style scoped>\n",
       "    .dataframe tbody tr th:only-of-type {\n",
       "        vertical-align: middle;\n",
       "    }\n",
       "\n",
       "    .dataframe tbody tr th {\n",
       "        vertical-align: top;\n",
       "    }\n",
       "\n",
       "    .dataframe thead th {\n",
       "        text-align: right;\n",
       "    }\n",
       "</style>\n",
       "<table border=\"1\" class=\"dataframe\">\n",
       "  <thead>\n",
       "    <tr style=\"text-align: right;\">\n",
       "      <th></th>\n",
       "      <th>LATITUDE</th>\n",
       "      <th>LONGITUDE</th>\n",
       "      <th>SQUARE</th>\n",
       "      <th>X</th>\n",
       "      <th>Y</th>\n",
       "    </tr>\n",
       "  </thead>\n",
       "  <tbody>\n",
       "    <tr>\n",
       "      <th>0</th>\n",
       "      <td>38.914680</td>\n",
       "      <td>-77.040832</td>\n",
       "      <td>152</td>\n",
       "      <td>-77.040429</td>\n",
       "      <td>38.914881</td>\n",
       "    </tr>\n",
       "    <tr>\n",
       "      <th>2</th>\n",
       "      <td>38.914684</td>\n",
       "      <td>-77.040678</td>\n",
       "      <td>152</td>\n",
       "      <td>-77.040429</td>\n",
       "      <td>38.914881</td>\n",
       "    </tr>\n",
       "    <tr>\n",
       "      <th>3</th>\n",
       "      <td>38.914683</td>\n",
       "      <td>-77.040629</td>\n",
       "      <td>152</td>\n",
       "      <td>-77.040429</td>\n",
       "      <td>38.914881</td>\n",
       "    </tr>\n",
       "    <tr>\n",
       "      <th>5</th>\n",
       "      <td>38.914331</td>\n",
       "      <td>-77.039715</td>\n",
       "      <td>152</td>\n",
       "      <td>-77.040429</td>\n",
       "      <td>38.914881</td>\n",
       "    </tr>\n",
       "    <tr>\n",
       "      <th>7</th>\n",
       "      <td>38.915408</td>\n",
       "      <td>-77.040129</td>\n",
       "      <td>152</td>\n",
       "      <td>-77.040429</td>\n",
       "      <td>38.914881</td>\n",
       "    </tr>\n",
       "    <tr>\n",
       "      <th>8</th>\n",
       "      <td>38.915017</td>\n",
       "      <td>-77.039903</td>\n",
       "      <td>152</td>\n",
       "      <td>-77.040429</td>\n",
       "      <td>38.914881</td>\n",
       "    </tr>\n",
       "    <tr>\n",
       "      <th>14</th>\n",
       "      <td>38.915038</td>\n",
       "      <td>-77.039716</td>\n",
       "      <td>152</td>\n",
       "      <td>-77.040429</td>\n",
       "      <td>38.914881</td>\n",
       "    </tr>\n",
       "    <tr>\n",
       "      <th>16</th>\n",
       "      <td>38.915018</td>\n",
       "      <td>-77.039844</td>\n",
       "      <td>152</td>\n",
       "      <td>-77.040429</td>\n",
       "      <td>38.914881</td>\n",
       "    </tr>\n",
       "    <tr>\n",
       "      <th>19</th>\n",
       "      <td>38.915019</td>\n",
       "      <td>-77.040138</td>\n",
       "      <td>152</td>\n",
       "      <td>-77.040429</td>\n",
       "      <td>38.914881</td>\n",
       "    </tr>\n",
       "    <tr>\n",
       "      <th>20</th>\n",
       "      <td>38.911370</td>\n",
       "      <td>-77.033774</td>\n",
       "      <td>208</td>\n",
       "      <td>-77.033366</td>\n",
       "      <td>38.911716</td>\n",
       "    </tr>\n",
       "    <tr>\n",
       "      <th>22</th>\n",
       "      <td>38.911368</td>\n",
       "      <td>-77.033925</td>\n",
       "      <td>208</td>\n",
       "      <td>-77.033366</td>\n",
       "      <td>38.911716</td>\n",
       "    </tr>\n",
       "    <tr>\n",
       "      <th>23</th>\n",
       "      <td>38.911368</td>\n",
       "      <td>-77.033972</td>\n",
       "      <td>208</td>\n",
       "      <td>-77.033366</td>\n",
       "      <td>38.911716</td>\n",
       "    </tr>\n",
       "    <tr>\n",
       "      <th>24</th>\n",
       "      <td>38.911319</td>\n",
       "      <td>-77.034070</td>\n",
       "      <td>208</td>\n",
       "      <td>-77.033366</td>\n",
       "      <td>38.911716</td>\n",
       "    </tr>\n",
       "    <tr>\n",
       "      <th>25</th>\n",
       "      <td>38.911337</td>\n",
       "      <td>-77.034156</td>\n",
       "      <td>208</td>\n",
       "      <td>-77.033366</td>\n",
       "      <td>38.911716</td>\n",
       "    </tr>\n",
       "    <tr>\n",
       "      <th>27</th>\n",
       "      <td>38.911732</td>\n",
       "      <td>-77.034182</td>\n",
       "      <td>208</td>\n",
       "      <td>-77.033366</td>\n",
       "      <td>38.911716</td>\n",
       "    </tr>\n",
       "    <tr>\n",
       "      <th>29</th>\n",
       "      <td>38.911699</td>\n",
       "      <td>-77.034051</td>\n",
       "      <td>208</td>\n",
       "      <td>-77.033366</td>\n",
       "      <td>38.911716</td>\n",
       "    </tr>\n",
       "    <tr>\n",
       "      <th>32</th>\n",
       "      <td>38.911710</td>\n",
       "      <td>-77.033846</td>\n",
       "      <td>208</td>\n",
       "      <td>-77.033366</td>\n",
       "      <td>38.911716</td>\n",
       "    </tr>\n",
       "    <tr>\n",
       "      <th>37</th>\n",
       "      <td>38.911701</td>\n",
       "      <td>-77.033367</td>\n",
       "      <td>208</td>\n",
       "      <td>-77.033366</td>\n",
       "      <td>38.911716</td>\n",
       "    </tr>\n",
       "    <tr>\n",
       "      <th>40</th>\n",
       "      <td>38.911706</td>\n",
       "      <td>-77.033156</td>\n",
       "      <td>208</td>\n",
       "      <td>-77.033366</td>\n",
       "      <td>38.911716</td>\n",
       "    </tr>\n",
       "    <tr>\n",
       "      <th>41</th>\n",
       "      <td>38.911710</td>\n",
       "      <td>-77.033087</td>\n",
       "      <td>208</td>\n",
       "      <td>-77.033366</td>\n",
       "      <td>38.911716</td>\n",
       "    </tr>\n",
       "    <tr>\n",
       "      <th>42</th>\n",
       "      <td>38.911696</td>\n",
       "      <td>-77.032950</td>\n",
       "      <td>208</td>\n",
       "      <td>-77.033366</td>\n",
       "      <td>38.911716</td>\n",
       "    </tr>\n",
       "    <tr>\n",
       "      <th>43</th>\n",
       "      <td>38.911704</td>\n",
       "      <td>-77.032884</td>\n",
       "      <td>208</td>\n",
       "      <td>-77.033366</td>\n",
       "      <td>38.911716</td>\n",
       "    </tr>\n",
       "    <tr>\n",
       "      <th>44</th>\n",
       "      <td>38.911706</td>\n",
       "      <td>-77.032815</td>\n",
       "      <td>208</td>\n",
       "      <td>-77.033366</td>\n",
       "      <td>38.911716</td>\n",
       "    </tr>\n",
       "    <tr>\n",
       "      <th>45</th>\n",
       "      <td>38.911716</td>\n",
       "      <td>-77.032744</td>\n",
       "      <td>208</td>\n",
       "      <td>-77.033366</td>\n",
       "      <td>38.911716</td>\n",
       "    </tr>\n",
       "    <tr>\n",
       "      <th>46</th>\n",
       "      <td>38.911716</td>\n",
       "      <td>-77.032672</td>\n",
       "      <td>208</td>\n",
       "      <td>-77.033366</td>\n",
       "      <td>38.911716</td>\n",
       "    </tr>\n",
       "    <tr>\n",
       "      <th>48</th>\n",
       "      <td>38.912024</td>\n",
       "      <td>-77.032951</td>\n",
       "      <td>208</td>\n",
       "      <td>-77.033366</td>\n",
       "      <td>38.911716</td>\n",
       "    </tr>\n",
       "    <tr>\n",
       "      <th>50</th>\n",
       "      <td>38.912025</td>\n",
       "      <td>-77.033226</td>\n",
       "      <td>208</td>\n",
       "      <td>-77.033366</td>\n",
       "      <td>38.911716</td>\n",
       "    </tr>\n",
       "    <tr>\n",
       "      <th>52</th>\n",
       "      <td>38.912019</td>\n",
       "      <td>-77.033559</td>\n",
       "      <td>208</td>\n",
       "      <td>-77.033366</td>\n",
       "      <td>38.911716</td>\n",
       "    </tr>\n",
       "    <tr>\n",
       "      <th>54</th>\n",
       "      <td>38.912042</td>\n",
       "      <td>-77.033705</td>\n",
       "      <td>208</td>\n",
       "      <td>-77.033366</td>\n",
       "      <td>38.911716</td>\n",
       "    </tr>\n",
       "    <tr>\n",
       "      <th>55</th>\n",
       "      <td>38.912021</td>\n",
       "      <td>-77.033767</td>\n",
       "      <td>208</td>\n",
       "      <td>-77.033366</td>\n",
       "      <td>38.911716</td>\n",
       "    </tr>\n",
       "    <tr>\n",
       "      <th>...</th>\n",
       "      <td>...</td>\n",
       "      <td>...</td>\n",
       "      <td>...</td>\n",
       "      <td>...</td>\n",
       "      <td>...</td>\n",
       "    </tr>\n",
       "    <tr>\n",
       "      <th>106630</th>\n",
       "      <td>38.842350</td>\n",
       "      <td>-77.002226</td>\n",
       "      <td>5978</td>\n",
       "      <td>-77.001497</td>\n",
       "      <td>38.842054</td>\n",
       "    </tr>\n",
       "    <tr>\n",
       "      <th>106631</th>\n",
       "      <td>38.842318</td>\n",
       "      <td>-77.002303</td>\n",
       "      <td>5978</td>\n",
       "      <td>-77.001497</td>\n",
       "      <td>38.842054</td>\n",
       "    </tr>\n",
       "    <tr>\n",
       "      <th>106632</th>\n",
       "      <td>38.842285</td>\n",
       "      <td>-77.002381</td>\n",
       "      <td>5978</td>\n",
       "      <td>-77.001497</td>\n",
       "      <td>38.842054</td>\n",
       "    </tr>\n",
       "    <tr>\n",
       "      <th>106633</th>\n",
       "      <td>38.842243</td>\n",
       "      <td>-77.002443</td>\n",
       "      <td>5978</td>\n",
       "      <td>-77.001497</td>\n",
       "      <td>38.842054</td>\n",
       "    </tr>\n",
       "    <tr>\n",
       "      <th>106637</th>\n",
       "      <td>38.842047</td>\n",
       "      <td>-77.002675</td>\n",
       "      <td>5978</td>\n",
       "      <td>-77.001497</td>\n",
       "      <td>38.842054</td>\n",
       "    </tr>\n",
       "    <tr>\n",
       "      <th>106638</th>\n",
       "      <td>38.842084</td>\n",
       "      <td>-77.002194</td>\n",
       "      <td>5978</td>\n",
       "      <td>-77.001497</td>\n",
       "      <td>38.842054</td>\n",
       "    </tr>\n",
       "    <tr>\n",
       "      <th>106641</th>\n",
       "      <td>38.841978</td>\n",
       "      <td>-77.001975</td>\n",
       "      <td>5978</td>\n",
       "      <td>-77.001497</td>\n",
       "      <td>38.842054</td>\n",
       "    </tr>\n",
       "    <tr>\n",
       "      <th>106642</th>\n",
       "      <td>38.842091</td>\n",
       "      <td>-77.001773</td>\n",
       "      <td>5978</td>\n",
       "      <td>-77.001497</td>\n",
       "      <td>38.842054</td>\n",
       "    </tr>\n",
       "    <tr>\n",
       "      <th>106645</th>\n",
       "      <td>38.848070</td>\n",
       "      <td>-76.999233</td>\n",
       "      <td>5981</td>\n",
       "      <td>-76.999562</td>\n",
       "      <td>38.848264</td>\n",
       "    </tr>\n",
       "    <tr>\n",
       "      <th>106646</th>\n",
       "      <td>38.848111</td>\n",
       "      <td>-76.999340</td>\n",
       "      <td>5981</td>\n",
       "      <td>-76.999562</td>\n",
       "      <td>38.848264</td>\n",
       "    </tr>\n",
       "    <tr>\n",
       "      <th>106650</th>\n",
       "      <td>38.848349</td>\n",
       "      <td>-76.999807</td>\n",
       "      <td>5981</td>\n",
       "      <td>-76.999562</td>\n",
       "      <td>38.848264</td>\n",
       "    </tr>\n",
       "    <tr>\n",
       "      <th>106651</th>\n",
       "      <td>38.848419</td>\n",
       "      <td>-76.999924</td>\n",
       "      <td>5981</td>\n",
       "      <td>-76.999562</td>\n",
       "      <td>38.848264</td>\n",
       "    </tr>\n",
       "    <tr>\n",
       "      <th>106653</th>\n",
       "      <td>38.848192</td>\n",
       "      <td>-76.996993</td>\n",
       "      <td>5982</td>\n",
       "      <td>-76.997144</td>\n",
       "      <td>38.847259</td>\n",
       "    </tr>\n",
       "    <tr>\n",
       "      <th>106654</th>\n",
       "      <td>38.848209</td>\n",
       "      <td>-76.997042</td>\n",
       "      <td>5982</td>\n",
       "      <td>-76.997144</td>\n",
       "      <td>38.847259</td>\n",
       "    </tr>\n",
       "    <tr>\n",
       "      <th>106656</th>\n",
       "      <td>38.848216</td>\n",
       "      <td>-76.997142</td>\n",
       "      <td>5982</td>\n",
       "      <td>-76.997144</td>\n",
       "      <td>38.847259</td>\n",
       "    </tr>\n",
       "    <tr>\n",
       "      <th>106657</th>\n",
       "      <td>38.848213</td>\n",
       "      <td>-76.997192</td>\n",
       "      <td>5982</td>\n",
       "      <td>-76.997144</td>\n",
       "      <td>38.847259</td>\n",
       "    </tr>\n",
       "    <tr>\n",
       "      <th>106662</th>\n",
       "      <td>38.825131</td>\n",
       "      <td>-76.997396</td>\n",
       "      <td>6250</td>\n",
       "      <td>-76.997266</td>\n",
       "      <td>38.824946</td>\n",
       "    </tr>\n",
       "    <tr>\n",
       "      <th>106663</th>\n",
       "      <td>38.825080</td>\n",
       "      <td>-76.997430</td>\n",
       "      <td>6250</td>\n",
       "      <td>-76.997266</td>\n",
       "      <td>38.824946</td>\n",
       "    </tr>\n",
       "    <tr>\n",
       "      <th>106664</th>\n",
       "      <td>38.825026</td>\n",
       "      <td>-76.997449</td>\n",
       "      <td>6250</td>\n",
       "      <td>-76.997266</td>\n",
       "      <td>38.824946</td>\n",
       "    </tr>\n",
       "    <tr>\n",
       "      <th>106666</th>\n",
       "      <td>38.824922</td>\n",
       "      <td>-76.997489</td>\n",
       "      <td>6250</td>\n",
       "      <td>-76.997266</td>\n",
       "      <td>38.824946</td>\n",
       "    </tr>\n",
       "    <tr>\n",
       "      <th>106668</th>\n",
       "      <td>38.824805</td>\n",
       "      <td>-76.997597</td>\n",
       "      <td>6250</td>\n",
       "      <td>-76.997266</td>\n",
       "      <td>38.824946</td>\n",
       "    </tr>\n",
       "    <tr>\n",
       "      <th>106672</th>\n",
       "      <td>38.820755</td>\n",
       "      <td>-77.007009</td>\n",
       "      <td>6254</td>\n",
       "      <td>-77.006347</td>\n",
       "      <td>38.821799</td>\n",
       "    </tr>\n",
       "    <tr>\n",
       "      <th>106673</th>\n",
       "      <td>38.820823</td>\n",
       "      <td>-77.007013</td>\n",
       "      <td>6254</td>\n",
       "      <td>-77.006347</td>\n",
       "      <td>38.821799</td>\n",
       "    </tr>\n",
       "    <tr>\n",
       "      <th>106682</th>\n",
       "      <td>38.821822</td>\n",
       "      <td>-77.006996</td>\n",
       "      <td>6254</td>\n",
       "      <td>-77.006347</td>\n",
       "      <td>38.821799</td>\n",
       "    </tr>\n",
       "    <tr>\n",
       "      <th>106683</th>\n",
       "      <td>38.821888</td>\n",
       "      <td>-77.006997</td>\n",
       "      <td>6254</td>\n",
       "      <td>-77.006347</td>\n",
       "      <td>38.821799</td>\n",
       "    </tr>\n",
       "    <tr>\n",
       "      <th>106687</th>\n",
       "      <td>38.821855</td>\n",
       "      <td>-77.005828</td>\n",
       "      <td>6254</td>\n",
       "      <td>-77.006347</td>\n",
       "      <td>38.821799</td>\n",
       "    </tr>\n",
       "    <tr>\n",
       "      <th>106688</th>\n",
       "      <td>38.821813</td>\n",
       "      <td>-77.006034</td>\n",
       "      <td>6254</td>\n",
       "      <td>-77.006347</td>\n",
       "      <td>38.821799</td>\n",
       "    </tr>\n",
       "    <tr>\n",
       "      <th>106692</th>\n",
       "      <td>38.821534</td>\n",
       "      <td>-77.006407</td>\n",
       "      <td>6254</td>\n",
       "      <td>-77.006347</td>\n",
       "      <td>38.821799</td>\n",
       "    </tr>\n",
       "    <tr>\n",
       "      <th>106694</th>\n",
       "      <td>38.821356</td>\n",
       "      <td>-77.006528</td>\n",
       "      <td>6254</td>\n",
       "      <td>-77.006347</td>\n",
       "      <td>38.821799</td>\n",
       "    </tr>\n",
       "    <tr>\n",
       "      <th>106695</th>\n",
       "      <td>38.821300</td>\n",
       "      <td>-77.006571</td>\n",
       "      <td>6254</td>\n",
       "      <td>-77.006347</td>\n",
       "      <td>38.821799</td>\n",
       "    </tr>\n",
       "  </tbody>\n",
       "</table>\n",
       "<p>57763 rows × 5 columns</p>\n",
       "</div>"
      ],
      "text/plain": [
       "         LATITUDE  LONGITUDE SQUARE          X          Y\n",
       "0       38.914680 -77.040832    152 -77.040429  38.914881\n",
       "2       38.914684 -77.040678    152 -77.040429  38.914881\n",
       "3       38.914683 -77.040629    152 -77.040429  38.914881\n",
       "5       38.914331 -77.039715    152 -77.040429  38.914881\n",
       "7       38.915408 -77.040129    152 -77.040429  38.914881\n",
       "8       38.915017 -77.039903    152 -77.040429  38.914881\n",
       "14      38.915038 -77.039716    152 -77.040429  38.914881\n",
       "16      38.915018 -77.039844    152 -77.040429  38.914881\n",
       "19      38.915019 -77.040138    152 -77.040429  38.914881\n",
       "20      38.911370 -77.033774    208 -77.033366  38.911716\n",
       "22      38.911368 -77.033925    208 -77.033366  38.911716\n",
       "23      38.911368 -77.033972    208 -77.033366  38.911716\n",
       "24      38.911319 -77.034070    208 -77.033366  38.911716\n",
       "25      38.911337 -77.034156    208 -77.033366  38.911716\n",
       "27      38.911732 -77.034182    208 -77.033366  38.911716\n",
       "29      38.911699 -77.034051    208 -77.033366  38.911716\n",
       "32      38.911710 -77.033846    208 -77.033366  38.911716\n",
       "37      38.911701 -77.033367    208 -77.033366  38.911716\n",
       "40      38.911706 -77.033156    208 -77.033366  38.911716\n",
       "41      38.911710 -77.033087    208 -77.033366  38.911716\n",
       "42      38.911696 -77.032950    208 -77.033366  38.911716\n",
       "43      38.911704 -77.032884    208 -77.033366  38.911716\n",
       "44      38.911706 -77.032815    208 -77.033366  38.911716\n",
       "45      38.911716 -77.032744    208 -77.033366  38.911716\n",
       "46      38.911716 -77.032672    208 -77.033366  38.911716\n",
       "48      38.912024 -77.032951    208 -77.033366  38.911716\n",
       "50      38.912025 -77.033226    208 -77.033366  38.911716\n",
       "52      38.912019 -77.033559    208 -77.033366  38.911716\n",
       "54      38.912042 -77.033705    208 -77.033366  38.911716\n",
       "55      38.912021 -77.033767    208 -77.033366  38.911716\n",
       "...           ...        ...    ...        ...        ...\n",
       "106630  38.842350 -77.002226   5978 -77.001497  38.842054\n",
       "106631  38.842318 -77.002303   5978 -77.001497  38.842054\n",
       "106632  38.842285 -77.002381   5978 -77.001497  38.842054\n",
       "106633  38.842243 -77.002443   5978 -77.001497  38.842054\n",
       "106637  38.842047 -77.002675   5978 -77.001497  38.842054\n",
       "106638  38.842084 -77.002194   5978 -77.001497  38.842054\n",
       "106641  38.841978 -77.001975   5978 -77.001497  38.842054\n",
       "106642  38.842091 -77.001773   5978 -77.001497  38.842054\n",
       "106645  38.848070 -76.999233   5981 -76.999562  38.848264\n",
       "106646  38.848111 -76.999340   5981 -76.999562  38.848264\n",
       "106650  38.848349 -76.999807   5981 -76.999562  38.848264\n",
       "106651  38.848419 -76.999924   5981 -76.999562  38.848264\n",
       "106653  38.848192 -76.996993   5982 -76.997144  38.847259\n",
       "106654  38.848209 -76.997042   5982 -76.997144  38.847259\n",
       "106656  38.848216 -76.997142   5982 -76.997144  38.847259\n",
       "106657  38.848213 -76.997192   5982 -76.997144  38.847259\n",
       "106662  38.825131 -76.997396   6250 -76.997266  38.824946\n",
       "106663  38.825080 -76.997430   6250 -76.997266  38.824946\n",
       "106664  38.825026 -76.997449   6250 -76.997266  38.824946\n",
       "106666  38.824922 -76.997489   6250 -76.997266  38.824946\n",
       "106668  38.824805 -76.997597   6250 -76.997266  38.824946\n",
       "106672  38.820755 -77.007009   6254 -77.006347  38.821799\n",
       "106673  38.820823 -77.007013   6254 -77.006347  38.821799\n",
       "106682  38.821822 -77.006996   6254 -77.006347  38.821799\n",
       "106683  38.821888 -77.006997   6254 -77.006347  38.821799\n",
       "106687  38.821855 -77.005828   6254 -77.006347  38.821799\n",
       "106688  38.821813 -77.006034   6254 -77.006347  38.821799\n",
       "106692  38.821534 -77.006407   6254 -77.006347  38.821799\n",
       "106694  38.821356 -77.006528   6254 -77.006347  38.821799\n",
       "106695  38.821300 -77.006571   6254 -77.006347  38.821799\n",
       "\n",
       "[57763 rows x 5 columns]"
      ]
     },
     "execution_count": 282,
     "metadata": {},
     "output_type": "execute_result"
    }
   ],
   "source": [
    "dc_re_resid.iloc[:,[32,33,37,38,39]]"
   ]
  },
  {
   "cell_type": "code",
   "execution_count": 265,
   "metadata": {},
   "outputs": [],
   "source": [
    "from sklearn.decomposition import PCA "
   ]
  },
  {
   "cell_type": "code",
   "execution_count": 267,
   "metadata": {},
   "outputs": [],
   "source": [
    "target_res = dc_re_resid['PRICE']\n",
    "X_res = dc_re_resid.drop(columns='PRICE')\n",
    "pca = PCA(n_components=10)"
   ]
  },
  {
   "cell_type": "code",
   "execution_count": 268,
   "metadata": {},
   "outputs": [
    {
     "ename": "ValueError",
     "evalue": "could not convert string to float: 'SW'",
     "output_type": "error",
     "traceback": [
      "\u001b[0;31m---------------------------------------------------------------------------\u001b[0m",
      "\u001b[0;31mValueError\u001b[0m                                Traceback (most recent call last)",
      "\u001b[0;32m<ipython-input-268-5d455e69c07e>\u001b[0m in \u001b[0;36m<module>\u001b[0;34m()\u001b[0m\n\u001b[0;32m----> 1\u001b[0;31m \u001b[0mdc_res_pca\u001b[0m \u001b[0;34m=\u001b[0m \u001b[0mpca\u001b[0m\u001b[0;34m.\u001b[0m\u001b[0mfit\u001b[0m\u001b[0;34m(\u001b[0m\u001b[0mX_res\u001b[0m\u001b[0;34m)\u001b[0m\u001b[0;34m\u001b[0m\u001b[0m\n\u001b[0m",
      "\u001b[0;32m~/anaconda3/lib/python3.6/site-packages/sklearn/decomposition/pca.py\u001b[0m in \u001b[0;36mfit\u001b[0;34m(self, X, y)\u001b[0m\n\u001b[1;32m    327\u001b[0m             \u001b[0mReturns\u001b[0m \u001b[0mthe\u001b[0m \u001b[0minstance\u001b[0m \u001b[0mitself\u001b[0m\u001b[0;34m.\u001b[0m\u001b[0;34m\u001b[0m\u001b[0m\n\u001b[1;32m    328\u001b[0m         \"\"\"\n\u001b[0;32m--> 329\u001b[0;31m         \u001b[0mself\u001b[0m\u001b[0;34m.\u001b[0m\u001b[0m_fit\u001b[0m\u001b[0;34m(\u001b[0m\u001b[0mX\u001b[0m\u001b[0;34m)\u001b[0m\u001b[0;34m\u001b[0m\u001b[0m\n\u001b[0m\u001b[1;32m    330\u001b[0m         \u001b[0;32mreturn\u001b[0m \u001b[0mself\u001b[0m\u001b[0;34m\u001b[0m\u001b[0m\n\u001b[1;32m    331\u001b[0m \u001b[0;34m\u001b[0m\u001b[0m\n",
      "\u001b[0;32m~/anaconda3/lib/python3.6/site-packages/sklearn/decomposition/pca.py\u001b[0m in \u001b[0;36m_fit\u001b[0;34m(self, X)\u001b[0m\n\u001b[1;32m    368\u001b[0m \u001b[0;34m\u001b[0m\u001b[0m\n\u001b[1;32m    369\u001b[0m         X = check_array(X, dtype=[np.float64, np.float32], ensure_2d=True,\n\u001b[0;32m--> 370\u001b[0;31m                         copy=self.copy)\n\u001b[0m\u001b[1;32m    371\u001b[0m \u001b[0;34m\u001b[0m\u001b[0m\n\u001b[1;32m    372\u001b[0m         \u001b[0;31m# Handle n_components==None\u001b[0m\u001b[0;34m\u001b[0m\u001b[0;34m\u001b[0m\u001b[0m\n",
      "\u001b[0;32m~/anaconda3/lib/python3.6/site-packages/sklearn/utils/validation.py\u001b[0m in \u001b[0;36mcheck_array\u001b[0;34m(array, accept_sparse, dtype, order, copy, force_all_finite, ensure_2d, allow_nd, ensure_min_samples, ensure_min_features, warn_on_dtype, estimator)\u001b[0m\n\u001b[1;32m    431\u001b[0m                                       force_all_finite)\n\u001b[1;32m    432\u001b[0m     \u001b[0;32melse\u001b[0m\u001b[0;34m:\u001b[0m\u001b[0;34m\u001b[0m\u001b[0m\n\u001b[0;32m--> 433\u001b[0;31m         \u001b[0marray\u001b[0m \u001b[0;34m=\u001b[0m \u001b[0mnp\u001b[0m\u001b[0;34m.\u001b[0m\u001b[0marray\u001b[0m\u001b[0;34m(\u001b[0m\u001b[0marray\u001b[0m\u001b[0;34m,\u001b[0m \u001b[0mdtype\u001b[0m\u001b[0;34m=\u001b[0m\u001b[0mdtype\u001b[0m\u001b[0;34m,\u001b[0m \u001b[0morder\u001b[0m\u001b[0;34m=\u001b[0m\u001b[0morder\u001b[0m\u001b[0;34m,\u001b[0m \u001b[0mcopy\u001b[0m\u001b[0;34m=\u001b[0m\u001b[0mcopy\u001b[0m\u001b[0;34m)\u001b[0m\u001b[0;34m\u001b[0m\u001b[0m\n\u001b[0m\u001b[1;32m    434\u001b[0m \u001b[0;34m\u001b[0m\u001b[0m\n\u001b[1;32m    435\u001b[0m         \u001b[0;32mif\u001b[0m \u001b[0mensure_2d\u001b[0m\u001b[0;34m:\u001b[0m\u001b[0;34m\u001b[0m\u001b[0m\n",
      "\u001b[0;31mValueError\u001b[0m: could not convert string to float: 'SW'"
     ]
    }
   ],
   "source": [
    "dc_res_pca = pca.fit(X_res)"
   ]
  },
  {
   "cell_type": "code",
   "execution_count": null,
   "metadata": {},
   "outputs": [],
   "source": []
  }
 ],
 "metadata": {
  "kernelspec": {
   "display_name": "Python 3",
   "language": "python",
   "name": "python3"
  },
  "language_info": {
   "codemirror_mode": {
    "name": "ipython",
    "version": 3
   },
   "file_extension": ".py",
   "mimetype": "text/x-python",
   "name": "python",
   "nbconvert_exporter": "python",
   "pygments_lexer": "ipython3",
   "version": "3.6.5"
  }
 },
 "nbformat": 4,
 "nbformat_minor": 2
}
