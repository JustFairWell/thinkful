{
 "cells": [
  {
   "cell_type": "code",
   "execution_count": 33,
   "metadata": {},
   "outputs": [],
   "source": [
    "import math\n",
    "import warnings\n",
    "import pandas as pd\n",
    "import numpy as np\n",
    "import matplotlib.pyplot as plt\n",
    "from sklearn import linear_model\n",
    "%matplotlib inline\n",
    "# Display preferences.\n",
    "pd.options.display.float_format = '{:.3f}'.format\n",
    "\n",
    "# Suppress annoying harmless error.\n",
    "warnings.filterwarnings(\n",
    "    action=\"ignore\",\n",
    "    module=\"scipy\",\n",
    "    message=\"^internal gelsd\"\n",
    ")"
   ]
  },
  {
   "cell_type": "code",
   "execution_count": 34,
   "metadata": {},
   "outputs": [],
   "source": [
    "# Load data\n",
    "crime_ny = pd.read_excel('/Users/justinsmith/Documents/GitHub/NY2013crime.xls', header=4, skipfooter=3)"
   ]
  },
  {
   "cell_type": "code",
   "execution_count": 35,
   "metadata": {},
   "outputs": [
    {
     "data": {
      "text/html": [
       "<div>\n",
       "<style scoped>\n",
       "    .dataframe tbody tr th:only-of-type {\n",
       "        vertical-align: middle;\n",
       "    }\n",
       "\n",
       "    .dataframe tbody tr th {\n",
       "        vertical-align: top;\n",
       "    }\n",
       "\n",
       "    .dataframe thead th {\n",
       "        text-align: right;\n",
       "    }\n",
       "</style>\n",
       "<table border=\"1\" class=\"dataframe\">\n",
       "  <thead>\n",
       "    <tr style=\"text-align: right;\">\n",
       "      <th></th>\n",
       "      <th>City</th>\n",
       "      <th>Pop</th>\n",
       "      <th>Violent</th>\n",
       "      <th>Murder</th>\n",
       "      <th>Rape</th>\n",
       "      <th>Robbery</th>\n",
       "      <th>Assault</th>\n",
       "      <th>Property</th>\n",
       "      <th>Burglary</th>\n",
       "      <th>Larceny</th>\n",
       "      <th>MVtheft</th>\n",
       "      <th>Arson</th>\n",
       "    </tr>\n",
       "  </thead>\n",
       "  <tbody>\n",
       "    <tr>\n",
       "      <th>0</th>\n",
       "      <td>Adams Village</td>\n",
       "      <td>1861</td>\n",
       "      <td>0</td>\n",
       "      <td>0</td>\n",
       "      <td>0</td>\n",
       "      <td>0</td>\n",
       "      <td>0</td>\n",
       "      <td>12</td>\n",
       "      <td>2</td>\n",
       "      <td>10</td>\n",
       "      <td>0</td>\n",
       "      <td>0.000</td>\n",
       "    </tr>\n",
       "    <tr>\n",
       "      <th>1</th>\n",
       "      <td>Addison Town and Village</td>\n",
       "      <td>2577</td>\n",
       "      <td>3</td>\n",
       "      <td>0</td>\n",
       "      <td>0</td>\n",
       "      <td>0</td>\n",
       "      <td>3</td>\n",
       "      <td>24</td>\n",
       "      <td>3</td>\n",
       "      <td>20</td>\n",
       "      <td>1</td>\n",
       "      <td>0.000</td>\n",
       "    </tr>\n",
       "    <tr>\n",
       "      <th>2</th>\n",
       "      <td>Akron Village</td>\n",
       "      <td>2846</td>\n",
       "      <td>3</td>\n",
       "      <td>0</td>\n",
       "      <td>0</td>\n",
       "      <td>0</td>\n",
       "      <td>3</td>\n",
       "      <td>16</td>\n",
       "      <td>1</td>\n",
       "      <td>15</td>\n",
       "      <td>0</td>\n",
       "      <td>0.000</td>\n",
       "    </tr>\n",
       "    <tr>\n",
       "      <th>3</th>\n",
       "      <td>Albany</td>\n",
       "      <td>97956</td>\n",
       "      <td>791</td>\n",
       "      <td>8</td>\n",
       "      <td>30</td>\n",
       "      <td>227</td>\n",
       "      <td>526</td>\n",
       "      <td>4090</td>\n",
       "      <td>705</td>\n",
       "      <td>3243</td>\n",
       "      <td>142</td>\n",
       "      <td>nan</td>\n",
       "    </tr>\n",
       "    <tr>\n",
       "      <th>4</th>\n",
       "      <td>Albion Village</td>\n",
       "      <td>6388</td>\n",
       "      <td>23</td>\n",
       "      <td>0</td>\n",
       "      <td>3</td>\n",
       "      <td>4</td>\n",
       "      <td>16</td>\n",
       "      <td>223</td>\n",
       "      <td>53</td>\n",
       "      <td>165</td>\n",
       "      <td>5</td>\n",
       "      <td>nan</td>\n",
       "    </tr>\n",
       "  </tbody>\n",
       "</table>\n",
       "</div>"
      ],
      "text/plain": [
       "                       City    Pop  Violent  Murder  Rape  Robbery  Assault  \\\n",
       "0             Adams Village   1861        0       0     0        0        0   \n",
       "1  Addison Town and Village   2577        3       0     0        0        3   \n",
       "2             Akron Village   2846        3       0     0        0        3   \n",
       "3                    Albany  97956      791       8    30      227      526   \n",
       "4            Albion Village   6388       23       0     3        4       16   \n",
       "\n",
       "   Property  Burglary  Larceny  MVtheft  Arson  \n",
       "0        12         2       10        0  0.000  \n",
       "1        24         3       20        1  0.000  \n",
       "2        16         1       15        0  0.000  \n",
       "3      4090       705     3243      142    nan  \n",
       "4       223        53      165        5    nan  "
      ]
     },
     "execution_count": 35,
     "metadata": {},
     "output_type": "execute_result"
    }
   ],
   "source": [
    "# Clean columns, outliers, and nan\n",
    "crime_ny[crime_ny['Population'] > 1000000]\n",
    "# crime_ny = crime_ny.drop([0,216])\n",
    "crime_ny = crime_ny.drop(crime_ny.columns[4], axis=1)\n",
    "crime_ny.columns = ['City', 'Pop', 'Violent', 'Murder', 'Rape', 'Robbery', 'Assault', 'Property', 'Burglary', 'Larceny', \n",
    "                    'MVtheft', 'Arson']\n",
    "crime_ny.head()"
   ]
  },
  {
   "cell_type": "code",
   "execution_count": 36,
   "metadata": {},
   "outputs": [],
   "source": [
    "# create features for linear regression\n",
    "crime_ny['pop_sq'] =crime_ny['Pop']**2\n",
    "crime_ny['murder_bool'] = crime_ny['Murder'].astype(bool)\n",
    "crime_ny['rob_bool'] = crime_ny['Robbery'].astype(bool)\n",
    "crime_ny['burg_bool'] = crime_ny['Burglary'].astype(bool)\n",
    "crime_ny['arson_bool'] = crime_ny['Arson'].astype(bool)"
   ]
  },
  {
   "cell_type": "code",
   "execution_count": 38,
   "metadata": {},
   "outputs": [
    {
     "data": {
      "text/plain": [
       "LinearRegression(copy_X=True, fit_intercept=True, n_jobs=1, normalize=False)"
      ]
     },
     "execution_count": 38,
     "metadata": {},
     "output_type": "execute_result"
    }
   ],
   "source": [
    "# start shaping data for regression\n",
    "regr = linear_model.LinearRegression()\n",
    "Y = crime_ny['Property'].values.reshape(-1,1)\n",
    "X = crime_ny[['Pop','pop_sq','murder_bool', 'rob_bool', 'burg_bool', 'arson_bool']]\n",
    "regr.fit(X, Y)"
   ]
  },
  {
   "cell_type": "code",
   "execution_count": 39,
   "metadata": {},
   "outputs": [
    {
     "name": "stdout",
     "output_type": "stream",
     "text": [
      "\n",
      "Coefficients: \n",
      " [[ 3.46494748e-02 -2.11021718e-09  1.11405733e+01 -9.21119642e+01\n",
      "  -8.95179729e+01  2.52529604e+01]]\n",
      "\n",
      "Intercept: \n",
      " [-42.8662706]\n",
      "\n",
      "R-squared:\n",
      "0.9961323165384894\n"
     ]
    }
   ],
   "source": [
    "# look at data\n",
    "print('\\nCoefficients: \\n', regr.coef_)\n",
    "print('\\nIntercept: \\n', regr.intercept_)\n",
    "print('\\nR-squared:')\n",
    "print(regr.score(X, Y))"
   ]
  },
  {
   "cell_type": "code",
   "execution_count": 41,
   "metadata": {},
   "outputs": [
    {
     "data": {
      "image/png": "[encoded data removed]",
      "text/plain": [
       "<Figure size 432x288 with 1 Axes>"
      ]
     },
     "metadata": {},
     "output_type": "display_data"
    }
   ],
   "source": [
    "# plot the residual in a histogram\n",
    "predicted = regr.predict(X).ravel()\n",
    "actual = crime_ny['Property']\n",
    "residual = actual - predicted\n",
    "\n",
    "plt.hist(residual)\n",
    "plt.title('Residual counts')\n",
    "plt.xlabel('Residual')\n",
    "plt.ylabel('Count')\n",
    "plt.show()"
   ]
  },
  {
   "cell_type": "code",
   "execution_count": 42,
   "metadata": {},
   "outputs": [
    {
     "data": {
      "image/png": "[encoded data removed]",
      "text/plain": [
       "<Figure size 432x288 with 1 Axes>"
      ]
     },
     "metadata": {},
     "output_type": "display_data"
    }
   ],
   "source": [
    "# plot prediction with residual\n",
    "plt.scatter(predicted, residual)\n",
    "plt.xlabel('Predicted')\n",
    "plt.ylabel('Residual')\n",
    "plt.axhline(y=0)\n",
    "plt.title('Residual vs. Predicted')\n",
    "plt.show()"
   ]
  },
  {
   "cell_type": "code",
   "execution_count": 43,
   "metadata": {},
   "outputs": [
    {
     "data": {
      "text/html": [
       "<div>\n",
       "<style scoped>\n",
       "    .dataframe tbody tr th:only-of-type {\n",
       "        vertical-align: middle;\n",
       "    }\n",
       "\n",
       "    .dataframe tbody tr th {\n",
       "        vertical-align: top;\n",
       "    }\n",
       "\n",
       "    .dataframe thead th {\n",
       "        text-align: right;\n",
       "    }\n",
       "</style>\n",
       "<table border=\"1\" class=\"dataframe\">\n",
       "  <thead>\n",
       "    <tr style=\"text-align: right;\">\n",
       "      <th></th>\n",
       "      <th>Pop</th>\n",
       "      <th>pop_sq</th>\n",
       "      <th>murder_bool</th>\n",
       "      <th>rob_bool</th>\n",
       "      <th>burg_bool</th>\n",
       "      <th>arson_bool</th>\n",
       "    </tr>\n",
       "  </thead>\n",
       "  <tbody>\n",
       "    <tr>\n",
       "      <th>Pop</th>\n",
       "      <td>1.000</td>\n",
       "      <td>0.998</td>\n",
       "      <td>0.162</td>\n",
       "      <td>0.064</td>\n",
       "      <td>0.022</td>\n",
       "      <td>0.057</td>\n",
       "    </tr>\n",
       "    <tr>\n",
       "      <th>pop_sq</th>\n",
       "      <td>0.998</td>\n",
       "      <td>1.000</td>\n",
       "      <td>0.133</td>\n",
       "      <td>0.044</td>\n",
       "      <td>0.014</td>\n",
       "      <td>0.042</td>\n",
       "    </tr>\n",
       "    <tr>\n",
       "      <th>murder_bool</th>\n",
       "      <td>0.162</td>\n",
       "      <td>0.133</td>\n",
       "      <td>1.000</td>\n",
       "      <td>0.313</td>\n",
       "      <td>0.103</td>\n",
       "      <td>0.250</td>\n",
       "    </tr>\n",
       "    <tr>\n",
       "      <th>rob_bool</th>\n",
       "      <td>0.064</td>\n",
       "      <td>0.044</td>\n",
       "      <td>0.313</td>\n",
       "      <td>1.000</td>\n",
       "      <td>0.286</td>\n",
       "      <td>0.373</td>\n",
       "    </tr>\n",
       "    <tr>\n",
       "      <th>burg_bool</th>\n",
       "      <td>0.022</td>\n",
       "      <td>0.014</td>\n",
       "      <td>0.103</td>\n",
       "      <td>0.286</td>\n",
       "      <td>1.000</td>\n",
       "      <td>0.297</td>\n",
       "    </tr>\n",
       "    <tr>\n",
       "      <th>arson_bool</th>\n",
       "      <td>0.057</td>\n",
       "      <td>0.042</td>\n",
       "      <td>0.250</td>\n",
       "      <td>0.373</td>\n",
       "      <td>0.297</td>\n",
       "      <td>1.000</td>\n",
       "    </tr>\n",
       "  </tbody>\n",
       "</table>\n",
       "</div>"
      ],
      "text/plain": [
       "              Pop  pop_sq  murder_bool  rob_bool  burg_bool  arson_bool\n",
       "Pop         1.000   0.998        0.162     0.064      0.022       0.057\n",
       "pop_sq      0.998   1.000        0.133     0.044      0.014       0.042\n",
       "murder_bool 0.162   0.133        1.000     0.313      0.103       0.250\n",
       "rob_bool    0.064   0.044        0.313     1.000      0.286       0.373\n",
       "burg_bool   0.022   0.014        0.103     0.286      1.000       0.297\n",
       "arson_bool  0.057   0.042        0.250     0.373      0.297       1.000"
      ]
     },
     "metadata": {},
     "output_type": "display_data"
    }
   ],
   "source": [
    "# Not very imformative.\n",
    "# Check out the correlation matrix\n",
    "correlation_matrix = X.corr()\n",
    "display(correlation_matrix)"
   ]
  },
  {
   "cell_type": "code",
   "execution_count": 45,
   "metadata": {},
   "outputs": [
    {
     "name": "stderr",
     "output_type": "stream",
     "text": [
      "/Users/justinsmith/anaconda3/lib/python3.6/site-packages/sklearn/utils/validation.py:475: DataConversionWarning: Data with input dtype int64 was converted to float64 by StandardScaler.\n",
      "  warnings.warn(msg, DataConversionWarning)\n",
      "/Users/justinsmith/anaconda3/lib/python3.6/site-packages/sklearn/utils/validation.py:475: DataConversionWarning: Data with input dtype int64 was converted to float64 by StandardScaler.\n",
      "  warnings.warn(msg, DataConversionWarning)\n"
     ]
    },
    {
     "data": {
      "image/png": "[encoded data removed]",
      "text/plain": [
       "<Figure size 432x288 with 1 Axes>"
      ]
     },
     "metadata": {},
     "output_type": "display_data"
    }
   ],
   "source": [
    "# scale the data to find a better fit\n",
    "from sklearn.preprocessing import StandardScaler\n",
    "\n",
    "scaler = StandardScaler()\n",
    "scalerX = StandardScaler().fit(X)\n",
    "scalerY = StandardScaler().fit(Y) \n",
    "\n",
    "normed_X = scalerX.transform(X)\n",
    "normed_y = scalerY.transform(Y) \n",
    "\n",
    "normed_y = normed_y.ravel()\n",
    "# Calculate a second residual with scaled data.\n",
    "lr = linear_model.LinearRegression()\n",
    "lr.fit(normed_X,normed_y)\n",
    "predicted_2 = lr.predict(normed_X).ravel()\n",
    "actual_2 = crime_ny['Property']\n",
    "residual_2 = actual_2 - predicted_2\n",
    "\n",
    "# This looks a bit concerning.\n",
    "plt.hist(residual_2)\n",
    "plt.title('Residual counts')\n",
    "plt.xlabel('Residual')\n",
    "plt.ylabel('Count')\n",
    "plt.show()"
   ]
  },
  {
   "cell_type": "code",
   "execution_count": 46,
   "metadata": {},
   "outputs": [
    {
     "data": {
      "image/png": "[encoded data removed]",
      "text/plain": [
       "<Figure size 720x576 with 1 Axes>"
      ]
     },
     "metadata": {},
     "output_type": "display_data"
    }
   ],
   "source": [
    "# plot residual and prediction again. Us log to help scale data more.\n",
    "fig = plt.figure(111,figsize=[10,8])\n",
    "ax = plt.gca()\n",
    "ax.scatter(predicted_2, residual_2, marker='.')\n",
    "ax.set_xscale('symlog')\n",
    "ax.set_yscale('symlog')\n",
    "ax.set_xlabel('Predicted')\n",
    "ax.set_ylabel('Residual')\n",
    "ax.axhline(y=0)\n",
    "plt.title('Residual vs. Predicted')\n",
    "plt.show()"
   ]
  },
  {
   "cell_type": "code",
   "execution_count": 47,
   "metadata": {},
   "outputs": [
    {
     "name": "stdout",
     "output_type": "stream",
     "text": [
      "\n",
      "Coefficients: \n",
      " [ 2.03578574e+00 -1.04106196e+00  5.06609875e-04 -5.89832996e-03\n",
      " -2.78693115e-03  1.60431567e-03]\n",
      "\n",
      "Intercept: \n",
      " 4.161414796618672e-17\n",
      "\n",
      "R-squared:\n",
      "0.9961323165384894\n"
     ]
    }
   ],
   "source": [
    "# rerun equation factors\n",
    "print('\\nCoefficients: \\n', lr.coef_)\n",
    "print('\\nIntercept: \\n', lr.intercept_)\n",
    "print('\\nR-squared:')\n",
    "print(lr.score(normed_X, normed_y))"
   ]
  },
  {
   "cell_type": "code",
   "execution_count": 48,
   "metadata": {},
   "outputs": [],
   "source": [
    "import statsmodels.formula.api as smf\n",
    "from statsmodels.sandbox.regression.predstd import wls_prediction_std"
   ]
  },
  {
   "cell_type": "code",
   "execution_count": 61,
   "metadata": {},
   "outputs": [],
   "source": [
    "linear_formula = 'Property ~ Pop+pop_sq+Murder+Robbery+Burglary+Arson'\n",
    "# Fit the model to our data using the formula.\n",
    "lm = smf.ols(formula=linear_formula, data=crime_ny).fit()"
   ]
  },
  {
   "cell_type": "code",
   "execution_count": 62,
   "metadata": {},
   "outputs": [
    {
     "name": "stdout",
     "output_type": "stream",
     "text": [
      "Intercept   -34.360\n",
      "Pop           0.014\n",
      "pop_sq       -0.000\n",
      "Murder      -15.274\n",
      "Robbery      -2.382\n",
      "Burglary      2.854\n",
      "Arson        24.845\n",
      "dtype: float64\n"
     ]
    }
   ],
   "source": [
    "print(lm.params)"
   ]
  },
  {
   "cell_type": "code",
   "execution_count": 63,
   "metadata": {},
   "outputs": [
    {
     "name": "stdout",
     "output_type": "stream",
     "text": [
      "Intercept   0.005\n",
      "Pop         0.000\n",
      "pop_sq      0.006\n",
      "Murder      0.188\n",
      "Robbery     0.000\n",
      "Burglary    0.000\n",
      "Arson       0.000\n",
      "dtype: float64\n"
     ]
    }
   ],
   "source": [
    "print(lm.pvalues)"
   ]
  },
  {
   "cell_type": "code",
   "execution_count": 64,
   "metadata": {},
   "outputs": [
    {
     "name": "stdout",
     "output_type": "stream",
     "text": [
      "0.9850716632961383\n"
     ]
    }
   ],
   "source": [
    "print(lm.rsquared)"
   ]
  },
  {
   "cell_type": "code",
   "execution_count": 65,
   "metadata": {},
   "outputs": [],
   "source": [
    "linear_formula_2 = 'Property ~ Pop+pop_sq+Robbery+Burglary+Arson'\n",
    "# Fit the model to our data using the formula.\n",
    "lm_2 = smf.ols(formula=linear_formula_2, data=crime_ny).fit()"
   ]
  },
  {
   "cell_type": "code",
   "execution_count": 66,
   "metadata": {},
   "outputs": [
    {
     "name": "stdout",
     "output_type": "stream",
     "text": [
      "Intercept   -33.877\n",
      "Pop           0.014\n",
      "pop_sq       -0.000\n",
      "Robbery      -2.780\n",
      "Burglary      2.849\n",
      "Arson        22.331\n",
      "dtype: float64\n"
     ]
    }
   ],
   "source": [
    "print(lm_2.params)"
   ]
  },
  {
   "cell_type": "code",
   "execution_count": 67,
   "metadata": {},
   "outputs": [
    {
     "name": "stdout",
     "output_type": "stream",
     "text": [
      "Intercept   0.006\n",
      "Pop         0.000\n",
      "pop_sq      0.009\n",
      "Robbery     0.000\n",
      "Burglary    0.000\n",
      "Arson       0.000\n",
      "dtype: float64\n"
     ]
    }
   ],
   "source": [
    "print(lm_2.pvalues)"
   ]
  },
  {
   "cell_type": "code",
   "execution_count": 68,
   "metadata": {},
   "outputs": [
    {
     "name": "stdout",
     "output_type": "stream",
     "text": [
      "0.984927061232614\n"
     ]
    }
   ],
   "source": [
    "print(lm_2.rsquared)"
   ]
  },
  {
   "cell_type": "code",
   "execution_count": null,
   "metadata": {},
   "outputs": [],
   "source": []
  }
 ],
 "metadata": {
  "kernelspec": {
   "display_name": "Python 3",
   "language": "python",
   "name": "python3"
  },
  "language_info": {
   "codemirror_mode": {
    "name": "ipython",
    "version": 3
   },
   "file_extension": ".py",
   "mimetype": "text/x-python",
   "name": "python",
   "nbconvert_exporter": "python",
   "pygments_lexer": "ipython3",
   "version": "3.6.5"
  }
 },
 "nbformat": 4,
 "nbformat_minor": 2
}
