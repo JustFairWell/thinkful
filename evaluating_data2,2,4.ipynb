{
 "cells": [
  {
   "cell_type": "code",
   "execution_count": 38,
   "metadata": {},
   "outputs": [],
   "source": [
    "import pandas as pd\n",
    "import matplotlib.pyplot as plt\n",
    "import seaborn as sns\n",
    "import numpy as np"
   ]
  },
  {
   "cell_type": "code",
   "execution_count": 14,
   "metadata": {},
   "outputs": [],
   "source": [
    "df_martialstatus = pd.read_excel('/Users/justinsmith/Downloads/Marital status of men and women.xls', header=3)"
   ]
  },
  {
   "cell_type": "code",
   "execution_count": 335,
   "metadata": {},
   "outputs": [
    {
     "name": "stdout",
     "output_type": "stream",
     "text": [
      "       Country  ISO code       Period  Year    Sex Marital status  \\\n",
      "0  Afghanistan         4  Around 1970  1973    Men         Single   \n",
      "1  Afghanistan         4  Around 1970  1973    Men        Married   \n",
      "2  Afghanistan         4  Around 1970  1973    Men        Widowed   \n",
      "3  Afghanistan         4  Around 1970  1973    Men       Divorced   \n",
      "4  Afghanistan         4  Around 1970  1973  Women         Single   \n",
      "\n",
      "  Non-standard age groups  15-19  20-24  25-29     ...       65+  Source type  \\\n",
      "0                     NaN   92.2   67.3   38.5     ...       1.6       Survey   \n",
      "1                     NaN    7.6   31.9   59.1     ...      78.3       Survey   \n",
      "2                     NaN    0.1    0.7    2.3     ...      19.9       Survey   \n",
      "3                     NaN    0.0    0.0    0.0     ...       0.1       Survey   \n",
      "4                     NaN   49.5   11.9    3.7     ...       2.5       Survey   \n",
      "\n",
      "                Source                                        Survey Name  \\\n",
      "0  National statistics  Afghanistan 1972-1974 National Demographic and...   \n",
      "1  National statistics  Afghanistan 1972-1974 National Demographic and...   \n",
      "2  National statistics  Afghanistan 1972-1974 National Demographic and...   \n",
      "3  National statistics  Afghanistan 1972-1974 National Demographic and...   \n",
      "4  National statistics  Afghanistan 1972-1974 National Demographic and...   \n",
      "\n",
      "   Note on non-standard age groups  Note on marital status  \\\n",
      "0                              NaN                     NaN   \n",
      "1                              NaN                     NaN   \n",
      "2                              NaN                     NaN   \n",
      "3                              NaN                     NaN   \n",
      "4                              NaN                     NaN   \n",
      "\n",
      "   Note on country or population  Note on data source Note on age  Unnamed: 26  \n",
      "0                            NaN                  NaN          NaN         NaN  \n",
      "1                            NaN                  NaN          NaN         NaN  \n",
      "2                            NaN                  NaN          NaN         NaN  \n",
      "3                            NaN                  NaN          NaN         NaN  \n",
      "4                            NaN                  NaN          NaN         NaN  \n",
      "\n",
      "[5 rows x 27 columns]\n"
     ]
    }
   ],
   "source": [
    "print(df_martialstatus.head())"
   ]
  },
  {
   "cell_type": "code",
   "execution_count": 336,
   "metadata": {},
   "outputs": [],
   "source": [
    "df_status_15_19 = df_martialstatus.pivot_table(values= '15-19', index=['Marital status', 'Country', 'Year'], columns='Sex')\n",
    "df_15_19_afghan = df_status_15_19.xs(('Single', 'Afghanistan'))\n",
    "df_15_19_usa = df_status_15_19.xs(('Single', 'United States of America'))"
   ]
  },
  {
   "cell_type": "code",
   "execution_count": 114,
   "metadata": {},
   "outputs": [
    {
     "data": {
      "image/png": "[encoded data removed]",
      "text/plain": [
       "<Figure size 432x288 with 1 Axes>"
      ]
     },
     "metadata": {},
     "output_type": "display_data"
    }
   ],
   "source": [
    "plt.plot(df_15_19_afghan['Men'], color='Green', label='Afghanistan Men')\n",
    "plt.plot(df_15_19_usa['Men'], color='Black', label='USA Men')\n",
    "plt.plot(df_15_19_afghan['Women'],color='Blue', label='Afghanistan Women')\n",
    "plt.plot(df_15_19_usa['Women'], color='Red', label='USA Women')\n",
    "plt.plot()\n",
    "plt.legend()\n",
    "plt.show()"
   ]
  },
  {
   "cell_type": "code",
   "execution_count": null,
   "metadata": {},
   "outputs": [],
   "source": [
    "# This graph shows the trend of single Afghan and USA men and women since the 1970's. While the USA has slowly increased its percentage of men\n",
    "# and women whp remain single between 15-19. Afghan men in this age range have actually begun to marry more frequently while the afghan women\n",
    "# have had a steep increase in staying single in recent years."
   ]
  },
  {
   "cell_type": "code",
   "execution_count": 337,
   "metadata": {},
   "outputs": [],
   "source": [
    "df_65_plus = df_martialstatus.pivot_table(values='65+', index=['Marital status', 'Country', 'Year'], columns='Sex')\n",
    "df_65_afghan = df_65_plus.xs(('Single', 'Afghanistan'))\n",
    "df_65_usa = df_65_plus.xs(('Single', 'United States of America'))"
   ]
  },
  {
   "cell_type": "code",
   "execution_count": 123,
   "metadata": {},
   "outputs": [
    {
     "data": {
      "image/png": "[encoded data removed]",
      "text/plain": [
       "<Figure size 432x288 with 1 Axes>"
      ]
     },
     "metadata": {},
     "output_type": "display_data"
    }
   ],
   "source": [
    "plt.plot(df_65_afghan['Men'], color='Green', label='Afghanistan Men')\n",
    "plt.plot(df_65_usa['Men'], color='Black', label='USA Men')\n",
    "plt.plot(df_65_afghan['Women'],color='Blue', label='Afghanistan Women')\n",
    "plt.plot(df_65_usa['Women'], color='Red', label='USA Women')\n",
    "plt.plot()\n",
    "plt.legend()\n",
    "plt.show()"
   ]
  },
  {
   "cell_type": "code",
   "execution_count": null,
   "metadata": {},
   "outputs": [],
   "source": [
    "# This graph shows the trend of 65+ single Afghan and USA men and women since the 1970's. While the percentage of USA men and women who are 65+\n",
    "# and single has decreased in recent years, it still has yet to decrease to even the peak of Afghanistan's 65+ single population around 1980. "
   ]
  },
  {
   "cell_type": "code",
   "execution_count": 196,
   "metadata": {},
   "outputs": [],
   "source": [
    "df_mrg_by_yr = df_martialstatus.set_index('Year')"
   ]
  },
  {
   "cell_type": "code",
   "execution_count": 347,
   "metadata": {},
   "outputs": [
    {
     "data": {
      "text/html": [
       "<div>\n",
       "<style scoped>\n",
       "    .dataframe tbody tr th:only-of-type {\n",
       "        vertical-align: middle;\n",
       "    }\n",
       "\n",
       "    .dataframe tbody tr th {\n",
       "        vertical-align: top;\n",
       "    }\n",
       "\n",
       "    .dataframe thead th {\n",
       "        text-align: right;\n",
       "    }\n",
       "</style>\n",
       "<table border=\"1\" class=\"dataframe\">\n",
       "  <thead>\n",
       "    <tr style=\"text-align: right;\">\n",
       "      <th></th>\n",
       "      <th>Country</th>\n",
       "      <th>Sex</th>\n",
       "      <th>Marital status</th>\n",
       "      <th>15-19</th>\n",
       "    </tr>\n",
       "    <tr>\n",
       "      <th>Year</th>\n",
       "      <th></th>\n",
       "      <th></th>\n",
       "      <th></th>\n",
       "      <th></th>\n",
       "    </tr>\n",
       "  </thead>\n",
       "  <tbody>\n",
       "    <tr>\n",
       "      <th>1960</th>\n",
       "      <td>Antigua and Barbuda</td>\n",
       "      <td>Women</td>\n",
       "      <td>Single</td>\n",
       "      <td>98.6</td>\n",
       "    </tr>\n",
       "    <tr>\n",
       "      <th>1960</th>\n",
       "      <td>Montserrat</td>\n",
       "      <td>Men</td>\n",
       "      <td>Widowed</td>\n",
       "      <td>0.0</td>\n",
       "    </tr>\n",
       "    <tr>\n",
       "      <th>1960</th>\n",
       "      <td>United States Virgin Islands</td>\n",
       "      <td>Men</td>\n",
       "      <td>Single</td>\n",
       "      <td>97.2</td>\n",
       "    </tr>\n",
       "    <tr>\n",
       "      <th>1960</th>\n",
       "      <td>United States Virgin Islands</td>\n",
       "      <td>Men</td>\n",
       "      <td>Married</td>\n",
       "      <td>1.8</td>\n",
       "    </tr>\n",
       "    <tr>\n",
       "      <th>1960</th>\n",
       "      <td>United States Virgin Islands</td>\n",
       "      <td>Men</td>\n",
       "      <td>Consensual union</td>\n",
       "      <td>0.9</td>\n",
       "    </tr>\n",
       "  </tbody>\n",
       "</table>\n",
       "</div>"
      ],
      "text/plain": [
       "                           Country    Sex    Marital status  15-19\n",
       "Year                                                              \n",
       "1960           Antigua and Barbuda  Women            Single   98.6\n",
       "1960                    Montserrat    Men           Widowed    0.0\n",
       "1960  United States Virgin Islands    Men            Single   97.2\n",
       "1960  United States Virgin Islands    Men           Married    1.8\n",
       "1960  United States Virgin Islands    Men  Consensual union    0.9"
      ]
     },
     "execution_count": 347,
     "metadata": {},
     "output_type": "execute_result"
    }
   ],
   "source": [
    "df_mrg_by_yr.sort_index().head()"
   ]
  },
  {
   "cell_type": "code",
   "execution_count": 206,
   "metadata": {},
   "outputs": [],
   "source": [
    "df_mrg_by_yr = df_mrg_by_yr[['Country', 'Sex', 'Marital status', '15-19']]"
   ]
  },
  {
   "cell_type": "code",
   "execution_count": 339,
   "metadata": {},
   "outputs": [
    {
     "data": {
      "text/html": [
       "<div>\n",
       "<style scoped>\n",
       "    .dataframe tbody tr th:only-of-type {\n",
       "        vertical-align: middle;\n",
       "    }\n",
       "\n",
       "    .dataframe tbody tr th {\n",
       "        vertical-align: top;\n",
       "    }\n",
       "\n",
       "    .dataframe thead th {\n",
       "        text-align: right;\n",
       "    }\n",
       "</style>\n",
       "<table border=\"1\" class=\"dataframe\">\n",
       "  <thead>\n",
       "    <tr style=\"text-align: right;\">\n",
       "      <th></th>\n",
       "      <th>Country</th>\n",
       "      <th>Sex</th>\n",
       "      <th>Marital status</th>\n",
       "      <th>15-19</th>\n",
       "    </tr>\n",
       "    <tr>\n",
       "      <th>Year</th>\n",
       "      <th></th>\n",
       "      <th></th>\n",
       "      <th></th>\n",
       "      <th></th>\n",
       "    </tr>\n",
       "  </thead>\n",
       "  <tbody>\n",
       "    <tr>\n",
       "      <th>1973</th>\n",
       "      <td>Afghanistan</td>\n",
       "      <td>Men</td>\n",
       "      <td>Single</td>\n",
       "      <td>92.2</td>\n",
       "    </tr>\n",
       "    <tr>\n",
       "      <th>1973</th>\n",
       "      <td>Afghanistan</td>\n",
       "      <td>Men</td>\n",
       "      <td>Married</td>\n",
       "      <td>7.6</td>\n",
       "    </tr>\n",
       "    <tr>\n",
       "      <th>1973</th>\n",
       "      <td>Afghanistan</td>\n",
       "      <td>Men</td>\n",
       "      <td>Widowed</td>\n",
       "      <td>0.1</td>\n",
       "    </tr>\n",
       "    <tr>\n",
       "      <th>1973</th>\n",
       "      <td>Afghanistan</td>\n",
       "      <td>Men</td>\n",
       "      <td>Divorced</td>\n",
       "      <td>0.0</td>\n",
       "    </tr>\n",
       "    <tr>\n",
       "      <th>1973</th>\n",
       "      <td>Afghanistan</td>\n",
       "      <td>Women</td>\n",
       "      <td>Single</td>\n",
       "      <td>49.5</td>\n",
       "    </tr>\n",
       "  </tbody>\n",
       "</table>\n",
       "</div>"
      ],
      "text/plain": [
       "          Country    Sex Marital status  15-19\n",
       "Year                                          \n",
       "1973  Afghanistan    Men         Single   92.2\n",
       "1973  Afghanistan    Men        Married    7.6\n",
       "1973  Afghanistan    Men        Widowed    0.1\n",
       "1973  Afghanistan    Men       Divorced    0.0\n",
       "1973  Afghanistan  Women         Single   49.5"
      ]
     },
     "execution_count": 339,
     "metadata": {},
     "output_type": "execute_result"
    }
   ],
   "source": [
    "df_mrg_by_yr.sort_index()\n",
    "df_mrg_by_yr.head()"
   ]
  },
  {
   "cell_type": "code",
   "execution_count": 215,
   "metadata": {},
   "outputs": [],
   "source": [
    "df_sorted = df_mrg_by_yr.loc[[1970, 1971, 1972, 1973, 1974, 1975, 1976, 1977, 1978, 1979]]"
   ]
  },
  {
   "cell_type": "code",
   "execution_count": 228,
   "metadata": {},
   "outputs": [
    {
     "data": {
      "text/html": [
       "<div>\n",
       "<style scoped>\n",
       "    .dataframe tbody tr th:only-of-type {\n",
       "        vertical-align: middle;\n",
       "    }\n",
       "\n",
       "    .dataframe tbody tr th {\n",
       "        vertical-align: top;\n",
       "    }\n",
       "\n",
       "    .dataframe thead th {\n",
       "        text-align: right;\n",
       "    }\n",
       "</style>\n",
       "<table border=\"1\" class=\"dataframe\">\n",
       "  <thead>\n",
       "    <tr style=\"text-align: right;\">\n",
       "      <th></th>\n",
       "      <th>Country</th>\n",
       "      <th>Sex</th>\n",
       "      <th>Marital status</th>\n",
       "      <th>15-19</th>\n",
       "    </tr>\n",
       "    <tr>\n",
       "      <th>Year</th>\n",
       "      <th></th>\n",
       "      <th></th>\n",
       "      <th></th>\n",
       "      <th></th>\n",
       "    </tr>\n",
       "  </thead>\n",
       "  <tbody>\n",
       "    <tr>\n",
       "      <th>1970</th>\n",
       "      <td>Angola</td>\n",
       "      <td>Men</td>\n",
       "      <td>Single</td>\n",
       "      <td>92.4</td>\n",
       "    </tr>\n",
       "    <tr>\n",
       "      <th>1970</th>\n",
       "      <td>Angola</td>\n",
       "      <td>Men</td>\n",
       "      <td>Married</td>\n",
       "      <td>7.5</td>\n",
       "    </tr>\n",
       "    <tr>\n",
       "      <th>1970</th>\n",
       "      <td>Angola</td>\n",
       "      <td>Men</td>\n",
       "      <td>Widowed</td>\n",
       "      <td>0.1</td>\n",
       "    </tr>\n",
       "    <tr>\n",
       "      <th>1970</th>\n",
       "      <td>Angola</td>\n",
       "      <td>Men</td>\n",
       "      <td>Divorced/Separated</td>\n",
       "      <td>0.0</td>\n",
       "    </tr>\n",
       "    <tr>\n",
       "      <th>1970</th>\n",
       "      <td>Argentina</td>\n",
       "      <td>Men</td>\n",
       "      <td>Single</td>\n",
       "      <td>98.1</td>\n",
       "    </tr>\n",
       "  </tbody>\n",
       "</table>\n",
       "</div>"
      ],
      "text/plain": [
       "        Country  Sex      Marital status  15-19\n",
       "Year                                           \n",
       "1970     Angola  Men              Single   92.4\n",
       "1970     Angola  Men             Married    7.5\n",
       "1970     Angola  Men             Widowed    0.1\n",
       "1970     Angola  Men  Divorced/Separated    0.0\n",
       "1970  Argentina  Men              Single   98.1"
      ]
     },
     "execution_count": 228,
     "metadata": {},
     "output_type": "execute_result"
    }
   ],
   "source": [
    "df_sorted_men = df_sorted[df_sorted['Sex'] == 'Men']\n",
    "df_sorted_men.head()"
   ]
  },
  {
   "cell_type": "code",
   "execution_count": 345,
   "metadata": {},
   "outputs": [
    {
     "data": {
      "image/png": "[encoded data removed]",
      "text/plain": [
       "<Figure size 432x288 with 1 Axes>"
      ]
     },
     "metadata": {},
     "output_type": "display_data"
    }
   ],
   "source": [
    "plt.bar(df_sorted_men['Marital status'], df_sorted_men['15-19'])\n",
    "plt.tick_params(axis='x', rotation=70)\n",
    "plt.show()"
   ]
  },
  {
   "cell_type": "code",
   "execution_count": null,
   "metadata": {},
   "outputs": [],
   "source": [
    "# Here we have a bar graph Showing the percentage of men 15-19 years old and their martial status in the 1970's.\n",
    "# You can see by this graph that most people in this age range are single."
   ]
  },
  {
   "cell_type": "code",
   "execution_count": 242,
   "metadata": {},
   "outputs": [],
   "source": [
    "df_30s = df_martialstatus[['Country', 'Year', 'Marital status', '30-34', '35-39']]"
   ]
  },
  {
   "cell_type": "code",
   "execution_count": 341,
   "metadata": {},
   "outputs": [
    {
     "data": {
      "text/html": [
       "<div>\n",
       "<style scoped>\n",
       "    .dataframe tbody tr th:only-of-type {\n",
       "        vertical-align: middle;\n",
       "    }\n",
       "\n",
       "    .dataframe tbody tr th {\n",
       "        vertical-align: top;\n",
       "    }\n",
       "\n",
       "    .dataframe thead th {\n",
       "        text-align: right;\n",
       "    }\n",
       "</style>\n",
       "<table border=\"1\" class=\"dataframe\">\n",
       "  <thead>\n",
       "    <tr style=\"text-align: right;\">\n",
       "      <th></th>\n",
       "      <th>Country</th>\n",
       "      <th>Year</th>\n",
       "      <th>Marital status</th>\n",
       "      <th>30-34</th>\n",
       "      <th>35-39</th>\n",
       "    </tr>\n",
       "  </thead>\n",
       "  <tbody>\n",
       "    <tr>\n",
       "      <th>1</th>\n",
       "      <td>Afghanistan</td>\n",
       "      <td>1973</td>\n",
       "      <td>Married</td>\n",
       "      <td>78.9</td>\n",
       "      <td>87.2</td>\n",
       "    </tr>\n",
       "    <tr>\n",
       "      <th>5</th>\n",
       "      <td>Afghanistan</td>\n",
       "      <td>1973</td>\n",
       "      <td>Married</td>\n",
       "      <td>94.2</td>\n",
       "      <td>93.4</td>\n",
       "    </tr>\n",
       "    <tr>\n",
       "      <th>9</th>\n",
       "      <td>Afghanistan</td>\n",
       "      <td>1979</td>\n",
       "      <td>Married</td>\n",
       "      <td>82.0</td>\n",
       "      <td>88.9</td>\n",
       "    </tr>\n",
       "    <tr>\n",
       "      <th>13</th>\n",
       "      <td>Afghanistan</td>\n",
       "      <td>1979</td>\n",
       "      <td>Married</td>\n",
       "      <td>95.8</td>\n",
       "      <td>94.5</td>\n",
       "    </tr>\n",
       "    <tr>\n",
       "      <th>17</th>\n",
       "      <td>Afghanistan</td>\n",
       "      <td>2008</td>\n",
       "      <td>Married</td>\n",
       "      <td>NaN</td>\n",
       "      <td>NaN</td>\n",
       "    </tr>\n",
       "  </tbody>\n",
       "</table>\n",
       "</div>"
      ],
      "text/plain": [
       "        Country  Year Marital status  30-34  35-39\n",
       "1   Afghanistan  1973        Married   78.9   87.2\n",
       "5   Afghanistan  1973        Married   94.2   93.4\n",
       "9   Afghanistan  1979        Married   82.0   88.9\n",
       "13  Afghanistan  1979        Married   95.8   94.5\n",
       "17  Afghanistan  2008        Married    NaN    NaN"
      ]
     },
     "execution_count": 341,
     "metadata": {},
     "output_type": "execute_result"
    }
   ],
   "source": [
    "df_30s_married = df_30s[df_30s['Marital status'] == 'Married']\n",
    "df_30s_married.dropna()\n",
    "df_30s_married.head()"
   ]
  },
  {
   "cell_type": "code",
   "execution_count": 334,
   "metadata": {},
   "outputs": [
    {
     "data": {
      "image/png": "[encoded data removed]",
      "text/plain": [
       "<Figure size 432x288 with 1 Axes>"
      ]
     },
     "metadata": {},
     "output_type": "display_data"
    }
   ],
   "source": [
    "df_30s_married_2 = df_30s_married.set_index('Country')\n",
    "df_30s_married_china = df_30s_married_2.loc['China']\n",
    "df_30s_married_india = df_30s_married_2.loc['India']\n",
    "df_30s_married_usa = df_30s_married_2.loc['United States of America']\n",
    "df_30s_married_brazil = df_30s_married_2.loc['Brazil']\n",
    "plt.scatter(df_30s_married_china['Year'], df_30s_married_china['30-34'], cmap='Blue', label='China')\n",
    "plt.scatter(df_30s_married_india['Year'], df_30s_married_india['30-34'], cmap='Red', label='India')\n",
    "plt.scatter(df_30s_married_usa['Year'], df_30s_married_usa['30-34'], cmap='Green', label='USA')\n",
    "plt.scatter(df_30s_married_brazil['Year'], df_30s_married_brazil['30-34'], cmap='Orange', label='Brazil')\n",
    "plt.title('30-34 year old marriage percentage by year and country')\n",
    "plt.xlabel('Year')\n",
    "plt.ylabel('Percentage of Married')\n",
    "plt.legend()\n",
    "plt.show()"
   ]
  },
  {
   "cell_type": "code",
   "execution_count": null,
   "metadata": {},
   "outputs": [],
   "source": [
    "# This graph shows men and women, 30-34 year olds, marrigae percentage for China, USA, Brazil, and India. \n",
    "# The general trend in each country is that more poeple are staying single longer. India has the least change.\n",
    "# Brazil on the other hand has had the largest change with less than 50% of 30-34 year olds being married\n",
    "# which is an absolute change of approximately 30 points since 1970. "
   ]
  },
  {
   "cell_type": "code",
   "execution_count": null,
   "metadata": {},
   "outputs": [],
   "source": []
  }
 ],
 "metadata": {
  "kernelspec": {
   "display_name": "Python 3",
   "language": "python",
   "name": "python3"
  },
  "language_info": {
   "codemirror_mode": {
    "name": "ipython",
    "version": 3
   },
   "file_extension": ".py",
   "mimetype": "text/x-python",
   "name": "python",
   "nbconvert_exporter": "python",
   "pygments_lexer": "ipython3",
   "version": "3.6.5"
  }
 },
 "nbformat": 4,
 "nbformat_minor": 2
}
