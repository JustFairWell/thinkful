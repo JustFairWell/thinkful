{
 "cells": [
  {
   "cell_type": "code",
   "execution_count": 19,
   "metadata": {},
   "outputs": [
    {
     "name": "stdout",
     "output_type": "stream",
     "text": [
      "[2.06, 4.71, 1.1901260437449472, 1.5446358794227202]\n"
     ]
    },
    {
     "data": {
      "image/png": "[encoded data removed]",
      "text/plain": [
       "<Figure size 432x288 with 1 Axes>"
      ]
     },
     "metadata": {},
     "output_type": "display_data"
    }
   ],
   "source": [
    "import pandas as pd\n",
    "import numpy as np\n",
    "import matplotlib.pyplot as plt\n",
    "\n",
    "pop1 = np.random.binomial(10, 0.2, size=10000)\n",
    "pop2 = np.random.binomial(10, 0.5, size=10000)\n",
    "sample1 = np.random.choice(pop1, 100, replace=True)\n",
    "sample2 = np.random.choice(pop2, 100, replace=True)\n",
    "p1_mean = sample1.mean()\n",
    "p2_mean = sample2.mean()\n",
    "p1_std = sample1.std()\n",
    "p2_std = sample2.std()\n",
    "print([p1_mean,p2_mean, p1_std, p2_std])\n",
    "\n",
    "plt.hist(sample1, alpha=0.5, color='blue', label='Pop 1')\n",
    "plt.hist(sample2, alpha=0.5, color='red', label='Pop 2')\n",
    "plt.legend()\n",
    "plt.show()"
   ]
  },
  {
   "cell_type": "code",
   "execution_count": 21,
   "metadata": {},
   "outputs": [
    {
     "name": "stdout",
     "output_type": "stream",
     "text": [
      "[2.004, 4.96, 1.279055901827594, 1.6286190469228832]\n"
     ]
    },
    {
     "data": {
      "image/png": "[encoded data removed]",
      "text/plain": [
       "<Figure size 432x288 with 1 Axes>"
      ]
     },
     "metadata": {},
     "output_type": "display_data"
    }
   ],
   "source": [
    "# Increase the size of your samples from 100 to 1000, then calculate the means and standard deviations \n",
    "# for your new samples and create histograms for each. Repeat this again, decreasing the size of your samples to 20. \n",
    "# What values change, and what remain the same?\n",
    "\n",
    "# before: I expect the increase in sample size to stablize the graph while the decrease to increase variety\n",
    "pop1 = np.random.binomial(10, 0.2, size=10000)\n",
    "pop2 = np.random.binomial(10, 0.5, size=10000)\n",
    "sample1 = np.random.choice(pop1, 1000, replace=True)\n",
    "sample2 = np.random.choice(pop2, 1000, replace=True)\n",
    "p1_mean = sample1.mean()\n",
    "p2_mean = sample2.mean()\n",
    "p1_std = sample1.std()\n",
    "p2_std = sample2.std()\n",
    "print([p1_mean,p2_mean, p1_std, p2_std])\n",
    "\n",
    "plt.hist(sample1, alpha=0.5, color='blue', label='Pop 1')\n",
    "plt.hist(sample2, alpha=0.5, color='red', label='Pop 2')\n",
    "plt.legend()\n",
    "plt.show()\n",
    "\n",
    "# after 1000: Basically what was expected. The mean and std got closer to the average."
   ]
  },
  {
   "cell_type": "code",
   "execution_count": 22,
   "metadata": {},
   "outputs": [
    {
     "name": "stdout",
     "output_type": "stream",
     "text": [
      "[2.3, 5.25, 1.5524174696260025, 1.6393596310755]\n"
     ]
    },
    {
     "data": {
      "image/png": "[encoded data removed]",
      "text/plain": [
       "<Figure size 432x288 with 1 Axes>"
      ]
     },
     "metadata": {},
     "output_type": "display_data"
    }
   ],
   "source": [
    "pop1 = np.random.binomial(10, 0.2, size=10000)\n",
    "pop2 = np.random.binomial(10, 0.5, size=10000)\n",
    "sample1 = np.random.choice(pop1, 20, replace=True)\n",
    "sample2 = np.random.choice(pop2, 20, replace=True)\n",
    "p1_mean = sample1.mean()\n",
    "p2_mean = sample2.mean()\n",
    "p1_std = sample1.std()\n",
    "p2_std = sample2.std()\n",
    "print([p1_mean,p2_mean, p1_std, p2_std])\n",
    "\n",
    "plt.hist(sample1, alpha=0.5, color='blue', label='Pop 1')\n",
    "plt.hist(sample2, alpha=0.5, color='red', label='Pop 2')\n",
    "plt.legend()\n",
    "plt.show()\n",
    "\n",
    "# after 20: There was the expected change as in comparision to the 1000 size sample. \n",
    "# Interesting, sample 2 is actually closer to the ideal in the 20 sample than compared to the 100. "
   ]
  },
  {
   "cell_type": "code",
   "execution_count": 36,
   "metadata": {},
   "outputs": [
    {
     "name": "stdout",
     "output_type": "stream",
     "text": [
      "Ttest_indResult(statistic=9.560446454061967, pvalue=4.79777610493131e-18)\n",
      "Ttest_indResult(statistic=4.788108682164977, pvalue=3.2916669509183687e-06)\n"
     ]
    }
   ],
   "source": [
    "# Change the probability value (p in the NumPy documentation) for pop1 to 0.3, then take new samples \n",
    "# and compute the t-statistic and p-value. Then change the probability value p for group 1 to 0.4, \n",
    "# and do it again. What changes, and why?\n",
    "from scipy.stats import ttest_ind\n",
    "\n",
    "pop1 = np.random.binomial(10, 0.3, size=10000)\n",
    "pop2 = np.random.binomial(10, 0.5, size=10000)\n",
    "sample1 = np.random.choice(pop1, 100, replace=True)\n",
    "sample2 = np.random.choice(pop2, 100, replace=True)\n",
    "print(ttest_ind(sample2, sample1, equal_var=False))\n",
    "pop1 = np.random.binomial(10, 0.4, size=10000)\n",
    "sample1 = np.random.choice(pop1, 100, replace=True)\n",
    "print(ttest_ind(sample2, sample1, equal_var=False))\n",
    "\n",
    "# as you increase p in the population, the t-statistic gets smaller and the p-value gets bigger. "
   ]
  },
  {
   "cell_type": "code",
   "execution_count": null,
   "metadata": {},
   "outputs": [],
   "source": [
    "# Change the distribution of your populations from binomial to a distribution of your choice. \n",
    "# Do the sample mean values still accurately represent the population values?"
   ]
  },
  {
   "cell_type": "code",
   "execution_count": 42,
   "metadata": {},
   "outputs": [
    {
     "name": "stdout",
     "output_type": "stream",
     "text": [
      "[10.047885783092656, 9.913016922568115, 3.126964801006615, 2.8255119812946305]\n"
     ]
    }
   ],
   "source": [
    "pop1 = np.random.gamma(10, size=10000)\n",
    "pop2 = np.random.gamma(10, size=10000)\n",
    "sample1 = np.random.choice(pop1, 100, replace=True)\n",
    "sample2 = np.random.choice(pop2, 100, replace=True)\n",
    "p1_mean = sample1.mean()\n",
    "p2_mean = sample2.mean()\n",
    "p1_std = sample1.std()\n",
    "p2_std = sample2.std()\n",
    "print([p1_mean,p2_mean, p1_std, p2_std])\n",
    "\n",
    "# Yes the mean will always "
   ]
  },
  {
   "cell_type": "code",
   "execution_count": null,
   "metadata": {},
   "outputs": [],
   "source": []
  }
 ],
 "metadata": {
  "kernelspec": {
   "display_name": "Python 3",
   "language": "python",
   "name": "python3"
  },
  "language_info": {
   "codemirror_mode": {
    "name": "ipython",
    "version": 3
   },
   "file_extension": ".py",
   "mimetype": "text/x-python",
   "name": "python",
   "nbconvert_exporter": "python",
   "pygments_lexer": "ipython3",
   "version": "3.6.5"
  }
 },
 "nbformat": 4,
 "nbformat_minor": 2
}
